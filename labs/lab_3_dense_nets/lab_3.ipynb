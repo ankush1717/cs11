{
 "cells": [
  {
   "cell_type": "markdown",
   "metadata": {},
   "source": [
    "# Lab 3: Mapping with Fully-Connected Networks\n",
    "Blocks of dense layers are really good at memorizing patterns.\n",
    "This week we'll step outside the traditional \"prediction\" regime of machine learning and use a fully-connected network (FCN) to represent a 2-D scene in its weight by interpolating between known points.\n",
    "\n",
    "Throughout, you should be impressed by two (related) properties of dense neural nets:\n",
    " - They have high enough capacity to entirely memorize complex patterns\n",
    " - They are sufficiently nonlinear to build these patterns up from simple inputs (like (x, y) coordinates in this case)"
   ]
  },
  {
   "cell_type": "code",
   "execution_count": 1,
   "metadata": {},
   "outputs": [],
   "source": [
    "%matplotlib inline\n",
    "\n",
    "import numpy as np\n",
    "import tensorflow as tf\n",
    "import matplotlib.pyplot as plt"
   ]
  },
  {
   "cell_type": "markdown",
   "metadata": {},
   "source": [
    "# Pointcloud mapping\n",
    "\n",
    "![full scene](./images/full_scene.png)\n",
    "\n",
    "### The problem\n",
    "Imagine there is a square (2-D) room with four walls and several square and circular objects in it.\n",
    "We put laser distance sensors around the room, which shoot rays that continue until they hit an object or a wall and report the distance, with limited angular and radial resolution.\n",
    "We want to use this limited data to produce a full 2-D reconstruction of the scene, filling in points the sensors haven't observed with likely values (in essence, interpolating).\n",
    "\n",
    "### The data\n",
    "We know that every ray that there's an object at the point each ray hit, and we also know that there's no object between the camera and the contact point.\n",
    "The data is provided as (x, y) pairs, where some points correspond to places we know are on object boundaries (shown in green above) and points we know are not inside objects (shown in red above).\n",
    "\n",
    "These points come in two data files: `data/positives.txt` for points on the edge of objects, and `data/negatives.txt` for points outside of objects.\n",
    "To generate these files, run `make_data.py`.\n",
    "\n",
    "(Check out the code if you want to see how the points are generated, but don't change anything!)\n",
    "\n",
    "### The model\n",
    "We want to store a full description of the scene in the weights of a neural network.\n",
    "To do this, we'll train a FCN to classify (x, y) points by whether or not they are the edge of a wall or object.\n",
    "Then, we can draw the scene by sampling (x, y) pairs and drawing the model's output.\n",
    "So, the network has \"memorized\" where the objects and walls are, and what their shapes are."
   ]
  },
  {
   "cell_type": "markdown",
   "metadata": {},
   "source": [
    "# Section 1: Load the data\n",
    "Load the data using `np.loadtxt()` (default arguments should work), then convert it to a usable format with a feature array and label array, which is 1 if a point is the edge of an object and 0 if it is not.\n",
    "\n",
    "Functions to look at:\n",
    " - `np.loadtxt`\n",
    " - `np.concatenate`"
   ]
  },
  {
   "cell_type": "code",
   "execution_count": 2,
   "metadata": {},
   "outputs": [],
   "source": [
    "positives = np.loadtxt('data/positives.txt')\n",
    "negatives = np.loadtxt('data/negatives.txt')\n",
    "positives = np.concatenate((positives,np.ones((positives.shape[0],1))), axis=1)\n",
    "negatives = np.concatenate((negatives,np.zeros((negatives.shape[0],1))), axis=1)\n",
    "data = np.concatenate((positives,negatives))\n",
    "np.random.shuffle(data)\n",
    "x = data[:, :-1]\n",
    "y = data[:,-1]"
   ]
  },
  {
   "cell_type": "markdown",
   "metadata": {},
   "source": [
    "# Section 2: Build a data pipeline\n",
    "Set up a `tf.data.Dataset` and a `tf.data.Iterator`.\n",
    "This time, there's no test set, just a single dataset."
   ]
  },
  {
   "cell_type": "code",
   "execution_count": 3,
   "metadata": {},
   "outputs": [],
   "source": [
    "n_epochs = 50\n",
    "batch_size = 32\n",
    "dataset_train = tf.data.Dataset.from_tensor_slices((x, y))\\\n",
    "    .shuffle(500).batch(batch_size).cache()\n"
   ]
  },
  {
   "cell_type": "code",
   "execution_count": 4,
   "metadata": {},
   "outputs": [
    {
     "name": "stdout",
     "output_type": "stream",
     "text": [
      "WARNING:tensorflow:From /Library/Frameworks/Python.framework/Versions/3.7/lib/python3.7/site-packages/tensorflow/python/data/ops/iterator_ops.py:358: colocate_with (from tensorflow.python.framework.ops) is deprecated and will be removed in a future version.\n",
      "Instructions for updating:\n",
      "Colocations handled automatically by placer.\n"
     ]
    }
   ],
   "source": [
    "iterator = tf.data.Iterator.from_structure(\n",
    "    dataset_train.output_types, \n",
    "    dataset_train.output_shapes)\n",
    "\n",
    "train_init_op = iterator.make_initializer(dataset_train)"
   ]
  },
  {
   "cell_type": "markdown",
   "metadata": {},
   "source": [
    "# Section 3: Build a model graph\n",
    "The model is a simple fully-connected neural network with four hidden layers, each with 64 units, and an output layer that performs binary classification with sigmoid activation.\n",
    "Recall that the input is just a pair (x, y).\n",
    "\n",
    "Functions to look at throughout:\n",
    " - `tf.cast`\n",
    " - `tf.expand_dims`\n",
    " - `tf.squeeze`\n",
    " - arithmetic operations"
   ]
  },
  {
   "cell_type": "markdown",
   "metadata": {},
   "source": [
    "### 3.1: Input tensors\n",
    "Get a tensor for the input coordinates and for the correct label."
   ]
  },
  {
   "cell_type": "code",
   "execution_count": 5,
   "metadata": {},
   "outputs": [],
   "source": [
    "with tf.name_scope('inputs'):\n",
    "    next_elem = iterator.get_next()\n",
    "    coords = tf.identity(next_elem[0], name='coords')\n",
    "    label = tf.identity(next_elem[1],name='label')"
   ]
  },
  {
   "cell_type": "markdown",
   "metadata": {},
   "source": [
    "### 3.2: Helper function to make dense layers\n",
    "It's tedious (and bad design) to explicitly write out every variable, matrix multiplication, etc.\n",
    "Instead, it's common to define helper functions that create one of a structure you expect to repeat in your model.\n",
    "\n",
    "Write a function called `make_dense_layer(...)`, which has its signature and scopes defined as a stub below.\n",
    "When called, it should add variables and operations to the graph which implement a single dense layer.\n",
    "\n",
    "If `do_activation` is True, it should apply ReLU activation to the computed values.\n",
    "To do this, you can use `tf.nn.relu`."
   ]
  },
  {
   "cell_type": "code",
   "execution_count": 6,
   "metadata": {},
   "outputs": [],
   "source": [
    "def make_dense_layer(prev_activations, dim_input, dim_output, \n",
    "                     do_activation=True, postfix=''):\n",
    "    '''\n",
    "    Adds a dense layer to the model graph.\n",
    "    \n",
    "    Parameters\n",
    "    ----------\n",
    "    prev_activations: tensor\n",
    "        The activations of the previous layer, or \n",
    "        the input for the first dense layer.\n",
    "    dim_input: int\n",
    "        Number of features in the input representation.\n",
    "    dim_output: int\n",
    "        Number of features in the output representation.\n",
    "        Equivalently, number of units in this layer.\n",
    "    do_activation: bool\n",
    "        Whether or not to apply ReLU activation.\n",
    "    postfix: string\n",
    "        Postfix on name and variable scopes in this layer.\n",
    "        Used to simplify visualizations.\n",
    "        \n",
    "    Returns\n",
    "    -------\n",
    "    A tensor representing the activations of this layer.\n",
    "    '''\n",
    "    with tf.name_scope('dense' + postfix):\n",
    "        with tf.variable_scope('dense' + postfix):\n",
    "            weights = tf.get_variable('weights', shape=(dim_input, dim_output), dtype=tf.float64,\n",
    "                          initializer=tf.initializers.he_uniform())\n",
    "            bias = tf.get_variable('bias', shape=(dim_output), dtype=tf.float64, \n",
    "                                   initializer=tf.zeros_initializer())\n",
    "        output = tf.matmul(prev_activations, weights) + bias\n",
    "        if do_activation:\n",
    "            output = tf.nn.relu(output)\n",
    "        return output    \n",
    "        "
   ]
  },
  {
   "cell_type": "markdown",
   "metadata": {},
   "source": [
    "### 3.3: Make dense layers\n",
    "Use the helper function to make four dense layers.\n",
    "Each should have 64 units, the correct input dimensions, and a distinct (and meaningful) postfix."
   ]
  },
  {
   "cell_type": "code",
   "execution_count": 7,
   "metadata": {},
   "outputs": [],
   "source": [
    "dense_1 = make_dense_layer(coords, coords.shape[1], 64, True, '1')\n",
    "dense_2 = make_dense_layer(dense_1, 64, 64, True, '2')\n",
    "dense_3 = make_dense_layer(dense_2, 64, 64, True, '3')\n",
    "dense_4 = make_dense_layer(dense_3, 64, 64, True, '4')"
   ]
  },
  {
   "cell_type": "markdown",
   "metadata": {},
   "source": [
    "### 3.4: Compute logit\n",
    "Use the helper function to make a final dense layer with `dim_output=1` to compute the final logit."
   ]
  },
  {
   "cell_type": "code",
   "execution_count": 8,
   "metadata": {},
   "outputs": [],
   "source": [
    "logits = make_dense_layer(dense_4, 64, 1, False, 'out')"
   ]
  },
  {
   "cell_type": "markdown",
   "metadata": {},
   "source": [
    "### 3.5: Compute class probability for output\n",
    "Use `tf.sigmoid` to compute the probability that the input coordinate is a boundary point.\n",
    "We will not use this for the loss, just for the output."
   ]
  },
  {
   "cell_type": "code",
   "execution_count": 9,
   "metadata": {},
   "outputs": [],
   "source": [
    "probs = tf.sigmoid(logits)"
   ]
  },
  {
   "cell_type": "markdown",
   "metadata": {},
   "source": [
    "### 3.6: Compute weighted cross-entropy loss\n",
    "There are about 33 times as many non-boundary coordinates as there are boundary coordinates.\n",
    "To prevent the network from just learning to predict that every coordinate is not a boundary, we should weight the loss function to consider boundary pixels more heavily.\n",
    "\n",
    "To do this, use `tf.nn.weighted_cross_entropy_with_logits()` on the logits computed before, plus the input label, and a positive weight of 20.\n",
    "Then, produce the mean loss for the batch with `tf.reduce_mean`, and add a summary scalar to plot loss in TensorBoard."
   ]
  },
  {
   "cell_type": "code",
   "execution_count": 10,
   "metadata": {},
   "outputs": [
    {
     "data": {
      "text/plain": [
       "<tf.Tensor 'loss:0' shape=() dtype=string>"
      ]
     },
     "execution_count": 10,
     "metadata": {},
     "output_type": "execute_result"
    }
   ],
   "source": [
    "loss_per_example = tf.nn.weighted_cross_entropy_with_logits(tf.expand_dims(label,1), logits, 20)\n",
    "loss_batch = tf.reduce_mean(loss_per_example)\n",
    "tf.summary.scalar('loss', loss_batch)"
   ]
  },
  {
   "cell_type": "markdown",
   "metadata": {},
   "source": [
    "### 3.7: Optimizer and gradients\n",
    "Make an optimizer (I used `tf.train.MomentumOptimizer` with `lr=1e-3` and `momentum=0.9`).\n",
    "Then, explicitly compute the gradients in a variable called `gradients` (so we can plot them below) and make an operation that applies those gradients to the graph.\n",
    "\n",
    "Note: don't use `optimizer.minimize`, which will result in computing the gradients twice since we already have them from `compute_gradients`."
   ]
  },
  {
   "cell_type": "code",
   "execution_count": 11,
   "metadata": {},
   "outputs": [],
   "source": [
    "optimizer = tf.train.MomentumOptimizer(1e-3, 0.9)\n",
    "gradients = optimizer.compute_gradients(loss_batch)\n",
    "optimize_step = optimizer.apply_gradients(gradients)"
   ]
  },
  {
   "cell_type": "markdown",
   "metadata": {},
   "source": [
    "### 3.8: Plot variables and gradients\n",
    "You don't need to do this for every model, but it's illustrative to do at least once.\n",
    "I've written the code for this below, with a pattern borrowed from http://matpalm.com/blog/viz_gradient_norms/."
   ]
  },
  {
   "cell_type": "code",
   "execution_count": 12,
   "metadata": {},
   "outputs": [
    {
     "name": "stdout",
     "output_type": "stream",
     "text": [
      "INFO:tensorflow:Summary name gradients/dense1/weights:0 is illegal; using gradients/dense1/weights_0 instead.\n",
      "INFO:tensorflow:Summary name variables/dense1/weights:0 is illegal; using variables/dense1/weights_0 instead.\n",
      "INFO:tensorflow:Summary name gradients/dense1/bias:0 is illegal; using gradients/dense1/bias_0 instead.\n",
      "INFO:tensorflow:Summary name variables/dense1/bias:0 is illegal; using variables/dense1/bias_0 instead.\n",
      "INFO:tensorflow:Summary name gradients/dense2/weights:0 is illegal; using gradients/dense2/weights_0 instead.\n",
      "INFO:tensorflow:Summary name variables/dense2/weights:0 is illegal; using variables/dense2/weights_0 instead.\n",
      "INFO:tensorflow:Summary name gradients/dense2/bias:0 is illegal; using gradients/dense2/bias_0 instead.\n",
      "INFO:tensorflow:Summary name variables/dense2/bias:0 is illegal; using variables/dense2/bias_0 instead.\n",
      "INFO:tensorflow:Summary name gradients/dense3/weights:0 is illegal; using gradients/dense3/weights_0 instead.\n",
      "INFO:tensorflow:Summary name variables/dense3/weights:0 is illegal; using variables/dense3/weights_0 instead.\n",
      "INFO:tensorflow:Summary name gradients/dense3/bias:0 is illegal; using gradients/dense3/bias_0 instead.\n",
      "INFO:tensorflow:Summary name variables/dense3/bias:0 is illegal; using variables/dense3/bias_0 instead.\n",
      "INFO:tensorflow:Summary name gradients/dense4/weights:0 is illegal; using gradients/dense4/weights_0 instead.\n",
      "INFO:tensorflow:Summary name variables/dense4/weights:0 is illegal; using variables/dense4/weights_0 instead.\n",
      "INFO:tensorflow:Summary name gradients/dense4/bias:0 is illegal; using gradients/dense4/bias_0 instead.\n",
      "INFO:tensorflow:Summary name variables/dense4/bias:0 is illegal; using variables/dense4/bias_0 instead.\n",
      "INFO:tensorflow:Summary name gradients/denseout/weights:0 is illegal; using gradients/denseout/weights_0 instead.\n",
      "INFO:tensorflow:Summary name variables/denseout/weights:0 is illegal; using variables/denseout/weights_0 instead.\n",
      "INFO:tensorflow:Summary name gradients/denseout/bias:0 is illegal; using gradients/denseout/bias_0 instead.\n",
      "INFO:tensorflow:Summary name variables/denseout/bias:0 is illegal; using variables/denseout/bias_0 instead.\n"
     ]
    }
   ],
   "source": [
    "with tf.name_scope('visualization'):\n",
    "    for gradient, variable in gradients:\n",
    "        if variable.name and gradient is not None:\n",
    "            tf.summary.histogram('gradients/' + variable.name, tf.norm(gradient))\n",
    "            tf.summary.histogram('variables/' + variable.name, tf.norm(variable))"
   ]
  },
  {
   "cell_type": "markdown",
   "metadata": {},
   "source": [
    "# Section 4: train the model\n",
    "Same as last time, except there's no test set.\n",
    "You don't need to distinguish between epochs and steps here, but do run the summary ops and log the summaries.\n",
    "\n",
    "I used 50 epochs, and got a final cross-entropy loss of about 0.3.\n",
    "You might not need to use this many epochs to get reasonable results, but more will get crisper results.\n",
    "\n",
    "This might take a while on CPUs, so if it's taking too long, think about:\n",
    " - Using Google Colaboratory\n",
    " - Increasing your batch size\n",
    " - Reducing the frequency with which you run summary ops, save metadata, etc\n",
    " \n",
    "Watching plots, histograms, etc in TensorBoard as the model trains can be fun."
   ]
  },
  {
   "cell_type": "code",
   "execution_count": 13,
   "metadata": {},
   "outputs": [
    {
     "name": "stdout",
     "output_type": "stream",
     "text": [
      "Epoch: 0\n",
      "Average loss: 1.0246227256529794\n",
      "Epoch: 1\n",
      "Average loss: 0.9507566147730357\n",
      "Epoch: 2\n",
      "Average loss: 0.9219469480047591\n",
      "Epoch: 3\n",
      "Average loss: 0.8918526774732558\n",
      "Epoch: 4\n",
      "Average loss: 0.8602686971345378\n",
      "Epoch: 5\n",
      "Average loss: 0.8348093283358586\n",
      "Epoch: 6\n",
      "Average loss: 0.7870517902477122\n",
      "Epoch: 7\n",
      "Average loss: 0.7494531233242898\n",
      "Epoch: 8\n",
      "Average loss: 0.7216517704368108\n",
      "Epoch: 9\n",
      "Average loss: 0.6773250535565881\n",
      "Epoch: 10\n",
      "Average loss: 0.6475296676259669\n",
      "Epoch: 11\n",
      "Average loss: 0.6212784271348616\n",
      "Epoch: 12\n",
      "Average loss: 0.5961515910396078\n",
      "Epoch: 13\n",
      "Average loss: 0.5606038849159038\n",
      "Epoch: 14\n",
      "Average loss: 0.54730887780522\n",
      "Epoch: 15\n",
      "Average loss: 0.5367543874909987\n",
      "Epoch: 16\n",
      "Average loss: 0.5302921914774615\n",
      "Epoch: 17\n",
      "Average loss: 0.5199996441556687\n",
      "Epoch: 18\n",
      "Average loss: 0.4905298738393813\n",
      "Epoch: 19\n",
      "Average loss: 0.5071343413056205\n",
      "Epoch: 20\n",
      "Average loss: 0.49939367310335225\n",
      "Epoch: 21\n",
      "Average loss: 0.4538369474618104\n",
      "Epoch: 22\n",
      "Average loss: 0.46792949040744153\n",
      "Epoch: 23\n",
      "Average loss: 0.44178761082776213\n",
      "Epoch: 24\n",
      "Average loss: 0.45038981115523535\n",
      "Epoch: 25\n",
      "Average loss: 0.4362225111235558\n",
      "Epoch: 26\n",
      "Average loss: 0.4576979521012882\n",
      "Epoch: 27\n",
      "Average loss: 0.42331585528763954\n",
      "Epoch: 28\n",
      "Average loss: 0.41191575087787025\n",
      "Epoch: 29\n",
      "Average loss: 0.4135568908220778\n",
      "Epoch: 30\n",
      "Average loss: 0.42357505068778245\n",
      "Epoch: 31\n",
      "Average loss: 0.4035351394824692\n",
      "Epoch: 32\n",
      "Average loss: 0.3881317404850561\n",
      "Epoch: 33\n",
      "Average loss: 0.42992156537692705\n",
      "Epoch: 34\n",
      "Average loss: 0.3948922726790515\n",
      "Epoch: 35\n",
      "Average loss: 0.3855015821765365\n",
      "Epoch: 36\n",
      "Average loss: 0.37127141950432024\n",
      "Epoch: 37\n",
      "Average loss: 0.38877302446707795\n",
      "Epoch: 38\n",
      "Average loss: 0.3872342685647898\n",
      "Epoch: 39\n",
      "Average loss: 0.38112751990263494\n",
      "Epoch: 40\n",
      "Average loss: 0.3793403300832128\n",
      "Epoch: 41\n",
      "Average loss: 0.37528834995855515\n",
      "Epoch: 42\n",
      "Average loss: 0.36597986994267384\n",
      "Epoch: 43\n",
      "Average loss: 0.36782510717627825\n",
      "Epoch: 44\n",
      "Average loss: 0.3487546531585538\n",
      "Epoch: 45\n",
      "Average loss: 0.34944601141693216\n",
      "Epoch: 46\n",
      "Average loss: 0.3416141004650215\n",
      "Epoch: 47\n",
      "Average loss: 0.32959596653612494\n",
      "Epoch: 48\n",
      "Average loss: 0.3437645935485888\n",
      "Epoch: 49\n",
      "Average loss: 0.3233384951589873\n"
     ]
    }
   ],
   "source": [
    "merged_summaries = tf.summary.merge_all()\n",
    "saver = tf.train.Saver()\n",
    "\n",
    "train_batch = 0\n",
    "\n",
    "with tf.Session() as sess:\n",
    "    # Make one writer for training logs and another for test logs \n",
    "    train_writer = tf.summary.FileWriter('./logs_lab/train', graph=sess.graph)\n",
    "    test_writer = tf.summary.FileWriter('./logs_lab/test')\n",
    "    \n",
    "    # Initialize all variables\n",
    "    sess.run(tf.global_variables_initializer())\n",
    "    \n",
    "    # Training loop\n",
    "    for epoch in range(n_epochs):\n",
    "        # Load training data\n",
    "        sess.run(train_init_op)\n",
    "        \n",
    "        losses = []\n",
    "        \n",
    "        # Iterate over the dataset once\n",
    "        while True:\n",
    "            try:\n",
    "                if train_batch > 0: # Typical batch\n",
    "                    # Run summary ops and optimization\n",
    "                    summary, loss, _ = sess.run([merged_summaries, loss_batch, optimize_step])\n",
    "                    losses.append(loss)\n",
    "                    train_writer.add_summary(summary, train_batch)\n",
    "                    train_batch += 1\n",
    "                else:\n",
    "                    # On the first batch, run a full trace\n",
    "                    run_options = tf.RunOptions(trace_level=tf.RunOptions.FULL_TRACE)\n",
    "                    run_metadata = tf.RunMetadata()\n",
    "                    \n",
    "                    summary, _ = sess.run([merged_summaries, optimize_step],\n",
    "                                          options=run_options,\n",
    "                                          run_metadata=run_metadata)\n",
    "                    \n",
    "                    train_writer.add_summary(summary, train_batch)    \n",
    "                    train_writer.add_run_metadata(run_metadata, \n",
    "                                                  'first training batch')\n",
    "                    train_batch += 1\n",
    "            except tf.errors.OutOfRangeError: # No more data\n",
    "                break\n",
    "                \n",
    "        print('Epoch:', epoch)\n",
    "        average_loss = np.mean(losses)\n",
    "        print('Average loss:', average_loss)\n",
    "        \n",
    "    # Save model\n",
    "    saver.save(sess, './checkpoints_lab/model.ckpt')    "
   ]
  },
  {
   "cell_type": "markdown",
   "metadata": {},
   "source": [
    "# Section 5: Plot the model\n",
    "Let's see what the network learned.\n",
    "Generate 100 x values and 100 y values, each in the range (-1, 1).\n",
    "Then compute the value of `probability` using every coordinate in that grid (every pairwise combination of x and y values), and plot a \"map\" of those probabilities using `plt.scatter()` (check out the `c` argument).\n",
    "\n",
    "You can use `feed_dict` to pass in data, since efficiency matters less here than in training.\n",
    "I used it to overwrite the input coordinates, since I didn't define a `Dataset` here.\n",
    "But, there are multiple ways to do this (e.g. defining a new `Dataset` of coordinates and fake labels).\n",
    "\n",
    "Remember to load the trained weights before running inference."
   ]
  },
  {
   "cell_type": "code",
   "execution_count": 14,
   "metadata": {},
   "outputs": [
    {
     "name": "stdout",
     "output_type": "stream",
     "text": [
      "WARNING:tensorflow:From /Library/Frameworks/Python.framework/Versions/3.7/lib/python3.7/site-packages/tensorflow/python/training/saver.py:1266: checkpoint_exists (from tensorflow.python.training.checkpoint_management) is deprecated and will be removed in a future version.\n",
      "Instructions for updating:\n",
      "Use standard file APIs to check for files with this prefix.\n",
      "INFO:tensorflow:Restoring parameters from ./checkpoints_lab/model.ckpt\n"
     ]
    },
    {
     "data": {
      "image/png": "[encoded data removed]",
      "text/plain": [
       "<Figure size 432x288 with 1 Axes>"
      ]
     },
     "metadata": {},
     "output_type": "display_data"
    }
   ],
   "source": [
    "with tf.Session() as sess:\n",
    "    saver.restore(sess, './checkpoints_lab/model.ckpt')\n",
    "    x_coords = np.random.uniform(-1,1, (300))\n",
    "    y_coords = np.random.uniform(-1,1, (300))\n",
    "    data = []\n",
    "    for i in range(300):\n",
    "        for j in range(300):\n",
    "            data.append([x_coords[i],y_coords[j]])\n",
    "    data = np.array(data)\n",
    "    output = sess.run(probs, feed_dict={coords: data})\n",
    "    colors = list(np.squeeze(output))\n",
    "    \n",
    "    plt.scatter(data[:,0], data[:,1], c=colors)"
   ]
  },
  {
   "cell_type": "markdown",
   "metadata": {},
   "source": [
    "# Section 6: TensorBoard plots\n",
    "This time, we have some more interesting TensorBoard plots than last time.\n",
    "Run TensorBoard, and look at:\n",
    " - The model graph in Graphs\n",
    " - The loss over time in Scalars\n",
    " - The weights, biases, and gradients over time in Distributions and Histograms\n",
    " \n",
    "The loss should decrease over time, and eventually stabilize (with some noise).\n",
    "\n",
    "The gradients for weights and biases may not go to zero, and your weights and biases may not look like they're converging.\n",
    "This is because of \"bias drift\" where multiple possible settings of weights and biases have the same loss value.\n",
    "To fix this, we could add a term to the loss which penalizes the model slightly based on the magnitude of the bias terms."
   ]
  },
  {
   "cell_type": "markdown",
   "metadata": {},
   "source": [
    "# Section 7: Again, but in Keras\n",
    "Make a Keras Sequential model which is equivalent to the one we've trained in TensorFlow.\n",
    "Train it on the same dataset, and again plot its output in the same way. \n",
    "\n",
    "Hints:\n",
    " - This won't take nearly as long as the previous sections\n",
    " - You don't need to use `keras.utils.to_categorical` since this is binary classification.\n",
    " - The appropriate loss function is 'binary_crossentropy'\n",
    " - To implement the same loss weighting, use `class_weight={0: 1.0, 1:20.0}` in `model.fit()`\n",
    " - You can get the outputs of the model over the entire grid at once with `model.predict()`"
   ]
  },
  {
   "cell_type": "markdown",
   "metadata": {},
   "source": [
    "### 7.1: Build a model\n",
    "Use `keras.models.Sequential` to build the same FCN as before."
   ]
  },
  {
   "cell_type": "code",
   "execution_count": 15,
   "metadata": {},
   "outputs": [
    {
     "name": "stderr",
     "output_type": "stream",
     "text": [
      "Using TensorFlow backend.\n"
     ]
    }
   ],
   "source": [
    "import keras\n",
    "from keras.models import Sequential\n",
    "from keras.layers import Dense, Activation\n",
    "\n",
    "model = Sequential()\n",
    "\n",
    "model.add(Dense(64, input_shape=(x.shape[1],)))\n",
    "model.add(Activation('relu'))\n",
    "\n",
    "model.add(Dense(64, activation='relu'))\n",
    "model.add(Dense(64, activation='relu'))\n",
    "model.add(Dense(64, activation='relu'))\n",
    "\n",
    "model.add(Dense(1, activation='sigmoid'))"
   ]
  },
  {
   "cell_type": "markdown",
   "metadata": {},
   "source": [
    "### 7.2: Define an optimizer and compile the model"
   ]
  },
  {
   "cell_type": "code",
   "execution_count": 16,
   "metadata": {},
   "outputs": [],
   "source": [
    "from keras.optimizers import SGD\n",
    "\n",
    "optimizer = SGD(lr=1e-3, momentum=0.9)\n",
    "model.compile(optimizer=optimizer,\n",
    "              loss='binary_crossentropy',\n",
    "            metrics=['binary_accuracy', 'binary_crossentropy'])"
   ]
  },
  {
   "cell_type": "markdown",
   "metadata": {},
   "source": [
    "### 7.3: Fit the model"
   ]
  },
  {
   "cell_type": "code",
   "execution_count": 17,
   "metadata": {},
   "outputs": [
    {
     "name": "stdout",
     "output_type": "stream",
     "text": [
      "WARNING:tensorflow:From /Library/Frameworks/Python.framework/Versions/3.7/lib/python3.7/site-packages/tensorflow/python/ops/math_ops.py:3066: to_int32 (from tensorflow.python.ops.math_ops) is deprecated and will be removed in a future version.\n",
      "Instructions for updating:\n",
      "Use tf.cast instead.\n",
      "Epoch 1/50\n",
      "28556/28556 [==============================] - 2s 78us/step - loss: 1.0335 - binary_accuracy: 0.9673 - binary_crossentropy: 0.5154\n",
      "Epoch 2/50\n",
      "28556/28556 [==============================] - 1s 50us/step - loss: 1.0085 - binary_accuracy: 0.9691 - binary_crossentropy: 0.4868\n",
      "Epoch 3/50\n",
      "28556/28556 [==============================] - 1s 44us/step - loss: 0.9729 - binary_accuracy: 0.9247 - binary_crossentropy: 0.4752\n",
      "Epoch 4/50\n",
      "28556/28556 [==============================] - 1s 43us/step - loss: 0.9424 - binary_accuracy: 0.8379 - binary_crossentropy: 0.4615\n",
      "Epoch 5/50\n",
      "28556/28556 [==============================] - 1s 43us/step - loss: 0.9230 - binary_accuracy: 0.8229 - binary_crossentropy: 0.4456\n",
      "Epoch 6/50\n",
      "28556/28556 [==============================] - 1s 46us/step - loss: 0.9060 - binary_accuracy: 0.8175 - binary_crossentropy: 0.4421: 1s - loss: 0.9322 - binary_accuracy: 0.8163 - binary_\n",
      "Epoch 7/50\n",
      "28556/28556 [==============================] - 1s 46us/step - loss: 0.8966 - binary_accuracy: 0.8049 - binary_crossentropy: 0.4403\n",
      "Epoch 8/50\n",
      "28556/28556 [==============================] - 2s 53us/step - loss: 0.8839 - binary_accuracy: 0.8138 - binary_crossentropy: 0.4326\n",
      "Epoch 9/50\n",
      "28556/28556 [==============================] - 2s 54us/step - loss: 0.8716 - binary_accuracy: 0.8100 - binary_crossentropy: 0.4316: 0s - loss: 0.8791 - binary_accuracy: 0.8028 - binary_crossentro\n",
      "Epoch 10/50\n",
      "28556/28556 [==============================] - 1s 44us/step - loss: 0.8559 - binary_accuracy: 0.8104 - binary_crossentropy: 0.4251\n",
      "Epoch 11/50\n",
      "28556/28556 [==============================] - 1s 43us/step - loss: 0.8452 - binary_accuracy: 0.8122 - binary_crossentropy: 0.4204\n",
      "Epoch 12/50\n",
      "28556/28556 [==============================] - 1s 46us/step - loss: 0.8352 - binary_accuracy: 0.8151 - binary_crossentropy: 0.4143\n",
      "Epoch 13/50\n",
      "28556/28556 [==============================] - 2s 66us/step - loss: 0.8274 - binary_accuracy: 0.8133 - binary_crossentropy: 0.4144\n",
      "Epoch 14/50\n",
      "28556/28556 [==============================] - 2s 59us/step - loss: 0.7963 - binary_accuracy: 0.8250 - binary_crossentropy: 0.3998\n",
      "Epoch 15/50\n",
      "28556/28556 [==============================] - 2s 61us/step - loss: 0.7646 - binary_accuracy: 0.8253 - binary_crossentropy: 0.3881\n",
      "Epoch 16/50\n",
      "28556/28556 [==============================] - 2s 64us/step - loss: 0.7333 - binary_accuracy: 0.8291 - binary_crossentropy: 0.3749\n",
      "Epoch 17/50\n",
      "28556/28556 [==============================] - 2s 60us/step - loss: 0.7001 - binary_accuracy: 0.8345 - binary_crossentropy: 0.3621: 0s - loss: 0.6977 - binary_accuracy: 0.8345 - binary_cros\n",
      "Epoch 18/50\n",
      "28556/28556 [==============================] - 1s 52us/step - loss: 0.6586 - binary_accuracy: 0.8396 - binary_crossentropy: 0.3456\n",
      "Epoch 19/50\n",
      "28556/28556 [==============================] - 2s 68us/step - loss: 0.6247 - binary_accuracy: 0.8437 - binary_crossentropy: 0.3299\n",
      "Epoch 20/50\n",
      "28556/28556 [==============================] - 1s 48us/step - loss: 0.6153 - binary_accuracy: 0.8393 - binary_crossentropy: 0.3267\n",
      "Epoch 21/50\n",
      "28556/28556 [==============================] - 1s 42us/step - loss: 0.5954 - binary_accuracy: 0.8397 - binary_crossentropy: 0.3232\n",
      "Epoch 22/50\n",
      "28556/28556 [==============================] - 1s 51us/step - loss: 0.5638 - binary_accuracy: 0.8458 - binary_crossentropy: 0.3087: 0s - loss: 0.5785 - binary_accuracy: 0.8425 - binary_\n",
      "Epoch 23/50\n",
      "28556/28556 [==============================] - 1s 47us/step - loss: 0.5484 - binary_accuracy: 0.8500 - binary_crossentropy: 0.3002: 0s - loss: 0.5603 - binary_accuracy: 0.8499 - binary_crossentr\n",
      "Epoch 24/50\n",
      "28556/28556 [==============================] - 1s 52us/step - loss: 0.5633 - binary_accuracy: 0.8416 - binary_crossentropy: 0.3122\n",
      "Epoch 25/50\n",
      "28556/28556 [==============================] - 2s 54us/step - loss: 0.5182 - binary_accuracy: 0.8552 - binary_crossentropy: 0.2857\n",
      "Epoch 26/50\n",
      "28556/28556 [==============================] - 2s 67us/step - loss: 0.5215 - binary_accuracy: 0.8526 - binary_crossentropy: 0.2927: 0s - loss: 0.5075 - binary_accuracy: 0.8539 - binary_crossentro\n",
      "Epoch 27/50\n",
      "28556/28556 [==============================] - 1s 46us/step - loss: 0.5234 - binary_accuracy: 0.8489 - binary_crossentropy: 0.2905: 0s - loss: 0.4912 - binary_accuracy: 0.8566 - binary_cros\n",
      "Epoch 28/50\n",
      "28556/28556 [==============================] - 1s 47us/step - loss: 0.4981 - binary_accuracy: 0.8573 - binary_crossentropy: 0.2803: 0s - loss: 0.4888 - binary_accuracy: 0.8596 - binary_crossentropy:\n",
      "Epoch 29/50\n",
      "28556/28556 [==============================] - 1s 48us/step - loss: 0.4797 - binary_accuracy: 0.8603 - binary_crossentropy: 0.2697\n",
      "Epoch 30/50\n",
      "28556/28556 [==============================] - 1s 43us/step - loss: 0.4769 - binary_accuracy: 0.8617 - binary_crossentropy: 0.2710\n",
      "Epoch 31/50\n",
      "28556/28556 [==============================] - 1s 46us/step - loss: 0.4647 - binary_accuracy: 0.8633 - binary_crossentropy: 0.2670\n",
      "Epoch 32/50\n",
      "28556/28556 [==============================] - 1s 44us/step - loss: 0.4628 - binary_accuracy: 0.8679 - binary_crossentropy: 0.2603\n",
      "Epoch 33/50\n",
      "28556/28556 [==============================] - 1s 46us/step - loss: 0.4439 - binary_accuracy: 0.8673 - binary_crossentropy: 0.2539\n",
      "Epoch 34/50\n",
      "28556/28556 [==============================] - 1s 46us/step - loss: 0.4479 - binary_accuracy: 0.8650 - binary_crossentropy: 0.2590\n",
      "Epoch 35/50\n",
      "28556/28556 [==============================] - 1s 48us/step - loss: 0.4472 - binary_accuracy: 0.8686 - binary_crossentropy: 0.2583\n",
      "Epoch 36/50\n",
      "28556/28556 [==============================] - 2s 70us/step - loss: 0.4517 - binary_accuracy: 0.8673 - binary_crossentropy: 0.2559\n",
      "Epoch 37/50\n",
      "28556/28556 [==============================] - 2s 64us/step - loss: 0.4354 - binary_accuracy: 0.8791 - binary_crossentropy: 0.2454\n",
      "Epoch 38/50\n",
      "28556/28556 [==============================] - 2s 65us/step - loss: 0.4124 - binary_accuracy: 0.8786 - binary_crossentropy: 0.2393\n",
      "Epoch 39/50\n",
      "28556/28556 [==============================] - 2s 64us/step - loss: 0.4202 - binary_accuracy: 0.8748 - binary_crossentropy: 0.2437\n",
      "Epoch 40/50\n",
      "28556/28556 [==============================] - 2s 64us/step - loss: 0.4254 - binary_accuracy: 0.8760 - binary_crossentropy: 0.2498\n",
      "Epoch 41/50\n",
      "28556/28556 [==============================] - 2s 63us/step - loss: 0.4257 - binary_accuracy: 0.8735 - binary_crossentropy: 0.2485\n",
      "Epoch 42/50\n",
      "28556/28556 [==============================] - 2s 69us/step - loss: 0.3977 - binary_accuracy: 0.8845 - binary_crossentropy: 0.2341\n",
      "Epoch 43/50\n",
      "28556/28556 [==============================] - 2s 63us/step - loss: 0.4266 - binary_accuracy: 0.8781 - binary_crossentropy: 0.2462\n",
      "Epoch 44/50\n",
      "28556/28556 [==============================] - 2s 75us/step - loss: 0.4035 - binary_accuracy: 0.8789 - binary_crossentropy: 0.2369: 2s - loss: 0.4334 - binary_accuracy: 0.8\n",
      "Epoch 45/50\n",
      "28556/28556 [==============================] - 2s 71us/step - loss: 0.3879 - binary_accuracy: 0.8853 - binary_crossentropy: 0.2275\n",
      "Epoch 46/50\n",
      "28556/28556 [==============================] - 2s 62us/step - loss: 0.3900 - binary_accuracy: 0.8880 - binary_crossentropy: 0.2288\n",
      "Epoch 47/50\n",
      "28556/28556 [==============================] - 2s 64us/step - loss: 0.3874 - binary_accuracy: 0.8925 - binary_crossentropy: 0.2266\n",
      "Epoch 48/50\n",
      "28556/28556 [==============================] - 2s 66us/step - loss: 0.3743 - binary_accuracy: 0.8913 - binary_crossentropy: 0.2199\n",
      "Epoch 49/50\n",
      "28556/28556 [==============================] - 2s 71us/step - loss: 0.4059 - binary_accuracy: 0.8821 - binary_crossentropy: 0.2435: 1s - loss: 0.4198 - binary_accuracy: 0.87\n",
      "Epoch 50/50\n",
      "28556/28556 [==============================] - 2s 68us/step - loss: 0.3843 - binary_accuracy: 0.8884 - binary_crossentropy: 0.2287\n"
     ]
    },
    {
     "data": {
      "text/plain": [
       "<keras.callbacks.History at 0x11a8b94a8>"
      ]
     },
     "execution_count": 17,
     "metadata": {},
     "output_type": "execute_result"
    }
   ],
   "source": [
    "model.fit(x, y,\n",
    "          epochs=50, batch_size=32, shuffle=True, class_weight={0: 1.0, 1:20.0})"
   ]
  },
  {
   "cell_type": "markdown",
   "metadata": {},
   "source": [
    "### 7.4: Plot the model"
   ]
  },
  {
   "cell_type": "code",
   "execution_count": 18,
   "metadata": {},
   "outputs": [
    {
     "data": {
      "text/plain": [
       "<matplotlib.collections.PathCollection at 0x12441d080>"
      ]
     },
     "execution_count": 18,
     "metadata": {},
     "output_type": "execute_result"
    },
    {
     "data": {
      "image/png": "[encoded data removed]",
      "text/plain": [
       "<Figure size 432x288 with 1 Axes>"
      ]
     },
     "metadata": {},
     "output_type": "display_data"
    }
   ],
   "source": [
    "output_2 = model.predict(data)\n",
    "colors_2 = list(np.squeeze(output))\n",
    "plt.scatter(data[:,0], data[:,1], c=colors_2)"
   ]
  }
 ],
 "metadata": {
  "kernelspec": {
   "display_name": "Python 3",
   "language": "python",
   "name": "python3"
  },
  "language_info": {
   "codemirror_mode": {
    "name": "ipython",
    "version": 3
   },
   "file_extension": ".py",
   "mimetype": "text/x-python",
   "name": "python",
   "nbconvert_exporter": "python",
   "pygments_lexer": "ipython3",
   "version": "3.7.0"
  }
 },
 "nbformat": 4,
 "nbformat_minor": 2
}
