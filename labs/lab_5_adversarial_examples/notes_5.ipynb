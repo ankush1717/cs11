{
 "cells": [
  {
   "cell_type": "markdown",
   "metadata": {},
   "source": [
    "# Lab 5: Adversarial Examples and Special Topics"
   ]
  },
  {
   "cell_type": "code",
   "execution_count": 1,
   "metadata": {},
   "outputs": [
    {
     "name": "stderr",
     "output_type": "stream",
     "text": [
      "Using TensorFlow backend.\n"
     ]
    }
   ],
   "source": [
    "%matplotlib inline\n",
    "import numpy as np\n",
    "import tensorflow as tf\n",
    "import matplotlib.pyplot as plt\n",
    "import keras"
   ]
  },
  {
   "cell_type": "markdown",
   "metadata": {},
   "source": [
    "## Advanced optimizers\n",
    "SGD with momentum is a fairly good optimizer, but assumes that every parameter it's updating should have the same learning rate (and that the learning rate should stay the same over time).\n",
    "But, if a parameter contributes to a unit that activates often, it will more frequently receive strong gradient updates, and so have a higher \"effective learning rate\".\n",
    "Having parameters with very different \"effective learning rates\" slows down learning, since either units which infrequently activate will have very low effective learning rates and be slow to converge, or units which frequently activate will have too-high effective learning rates and will not converge.\n",
    "\n",
    "Several advanced \"adaptive\" optimizers have been developed to deal with this problem.\n",
    "They have the additional advantage of working well with a broader range of learning rates than SGD, so they take less tuning.\n",
    "They're particularly effective when you expect certain features to be rare or sparse, since this is when differences in effective learning rate appear.\n",
    "\n",
    "I'll only describe the basics of these algorithms here.\n",
    "If you're interested in reading more, check out [this post on ruder.io](http://ruder.io/optimizing-gradient-descent/index.html).\n",
    "The [Keras documentation on optimizers](https://keras.io/optimizers/) also has some good info.\n",
    "\n",
    "### Adagrad\n",
    "Adagrad is an adaptive variant of SGD that divides the learning rate applied to a given parameter by the square root of the running total of gradient updates that parameter has _ever_ seen.\n",
    "As training progresses, the learning rate of each parameter monotonically decreases as it experiences more gradient updates, and the parameters that are updated the most see the sharpest decrease.\n",
    "\n",
    "Adagrad has the very appealing property that you basically don't need to tune the learning rate; the Keras documentation recommends leaving it fixed at 0.01.\n",
    "But this robustness comes with a major downside: the \"running total of past gradients\" it keeps track of per-parameter strictly grows, so eventually the learning rate becomes very small.\n",
    "\n",
    "This makes Adagrad a bad choice for long-running training tasks.\n",
    "Qualitatively, I don't see Adagrad used very often.\n",
    "\n",
    "To use Adagrad in TensorFlow, use [`tf.train.AdagradOptimizer`](https://www.tensorflow.org/api_docs/python/tf/train/AdagradOptimizer).\n",
    "\n",
    "### RMSProp and Adadelta\n",
    "Instead of reducing the learning rate for a parameter based on all of the updates it's ever gotten, RMSProp and Adadelta use an exponential moving average of previous gradients, so the reduction is based on only the previous few updates. \n",
    "This prevents Adagrad's problem of monotonically-decreasing gradients, but does make it more sensitive to learning rate tuning. \n",
    "\n",
    "Of the two, RMSProp seems to be more popular, though there's not a lot of difference.\n",
    "RMSProp in particular is a very commonly-used optimizer.\n",
    "\n",
    "To use them, see [`tf.train.RMSPropOptimizer`](https://www.tensorflow.org/api_docs/python/tf/train/RMSPropOptimizer) and [`tf.train.AdadeltaOptimizer`](https://www.tensorflow.org/api_docs/python/tf/train/AdadeltaOptimizer).\n",
    "\n",
    "### Adam\n",
    "Adam is a modification of RMSProp with an extra term similar to momentum (using a moving average of past gradients instead of the current gradient).\n",
    "It's extremely popular, and usually trains your model the fastest with the least tuning.\n",
    "\n",
    "To use it, see [`tf.train.AdamOptimizer`](https://www.tensorflow.org/api_docs/python/tf/train/AdamOptimizer).\n",
    "\n",
    "### Aside: simple SGD generalizes better?\n",
    "Adaptive methods like Adam almost always converge faster much faster, but there is [some evidence that SGD + momentum](http://ruder.io/deep-learning-optimization-2017/index.html#improvingadam) generalizes better.\n",
    "Generally I stick to Adam, but when you need to squeeze accuracy out of a model (e.g. Kaggle) consider SGD + momentum instead of an adaptive method."
   ]
  },
  {
   "cell_type": "markdown",
   "metadata": {},
   "source": [
    "## Flow control in TensorFlow\n",
    "Generally, it's best to design a TensorFlow graph so that data always flows through the same branch in the same way.\n",
    "Ideally, each tensor represents exactly one thing.\n",
    "Because of this, flow control in TensorFlow is pretty awkward.\n",
    "But there are some cases where, even in graph programming, it's helpful to have conditionals and looping.\n",
    "\n",
    "### `tf.cond` \n",
    "[`tf.cond`](https://www.tensorflow.org/api_docs/python/tf/cond) is the closest thing TensorFlow has to an if-statement.\n",
    "It takes a scalar (\"falsy\" values like False and 0 map to False, everything else maps to True) and two _functions that return tensors_. \n",
    "Both functions must have the same number and type of outputs.\n",
    "\n",
    "Its behavior is counterintuitive.\n",
    "Both \"branches\" are functions (usually lambdas) that return tensors, and every \"upstream\" tensor that _either_ branch depends on is evaluated.\n",
    "Also, both functions get called exactly once, when `tf.cond()` is called, and after that their returned tensors are used instead.\n",
    "\n",
    "`tf.cond` is useful when part of the graph can take one of multiple similar inputs in different cases.\n",
    "An example is the assignment, where we use `tf.cond` to switch between an image and that image with added noise.\n",
    "\n",
    "The syntax is best understood with an example:"
   ]
  },
  {
   "cell_type": "code",
   "execution_count": 2,
   "metadata": {},
   "outputs": [
    {
     "name": "stdout",
     "output_type": "stream",
     "text": [
      "True branch: result = 1.0\n",
      "False branch: result = 2.0\n"
     ]
    }
   ],
   "source": [
    "a = tf.constant(1.0)\n",
    "b = tf.constant(2.0)\n",
    "switch = tf.placeholder(tf.bool, shape=())\n",
    "\n",
    "# This is one way to pass a tensor to `tf.cond`\n",
    "def a_fn():\n",
    "    return a\n",
    "\n",
    "result = tf.cond(switch, \n",
    "                 a_fn, \n",
    "                 lambda: b) # Lambdas are the more common way to pass tensors to cond\n",
    "\n",
    "with tf.Session() as sess:\n",
    "    print('True branch: result =', sess.run(result, feed_dict={switch: True}))\n",
    "    print('False branch: result =', sess.run(result, feed_dict={switch: False}))"
   ]
  },
  {
   "cell_type": "markdown",
   "metadata": {},
   "source": [
    "### `tf.while_loop`\n",
    "[`tf.while_loop`](https://www.tensorflow.org/api_docs/python/tf/while_loop) updates a fixed list of tensors, called `loop_vars`, by calling a body function until a condition function is no longer true.\n",
    "\n",
    "`tf.while_loop` is useful for:\n",
    " - Updating values until they meet some condition\n",
    " - Running the same (side-effect-ful) operation many times\n",
    "\n",
    "Again, an example (taken from the documentation) is helpful to understand the syntax:"
   ]
  },
  {
   "cell_type": "code",
   "execution_count": 3,
   "metadata": {},
   "outputs": [
    {
     "name": "stdout",
     "output_type": "stream",
     "text": [
      "10\n"
     ]
    }
   ],
   "source": [
    "i = tf.constant(0)\n",
    "\n",
    "def condition(i):\n",
    "    return tf.less(i, 10)  # Note: this is a tensor\n",
    "    \n",
    "def body(i):\n",
    "    return tf.add(i, 1)    # Note: this is also a tensor\n",
    "\n",
    "result = tf.while_loop(cond=condition, \n",
    "                       body=body, \n",
    "                       loop_vars=[i])  # The variables that get updated\n",
    "\n",
    "with tf.Session() as sess:\n",
    "    sess.run(tf.global_variables_initializer())\n",
    "    print(sess.run(result))"
   ]
  },
  {
   "cell_type": "markdown",
   "metadata": {},
   "source": [
    "## Controlling gradient flow in TensorFlow\n",
    "The way we've used optimizers so far, they just modify every variable in the graph every time they perform a gradient update.\n",
    "For more complicated models (e.g. with multiple training phases), that behavior might not be desirable.\n",
    "So, TensorFlow provides a number of ways to control how gradients flow backwards through the graph and which variables are updated.\n",
    "\n",
    "#### [`tf.stop_gradient`](https://www.tensorflow.org/api_docs/python/tf/stop_gradient)\n",
    "If `a` is a tensor, then `tf.stop_gradient(a)` is that same tensor, except that _gradients will not flow backwards through this operation_.\n",
    "\n",
    "Recall from the discussion of backpropagation how the gradient applied to a parameter is the sum of gradients along all paths from that parameter to the output.\n",
    "If there is a `stop_gradient` operation on one of those paths, that path is removed from the computation.\n",
    "\n",
    "#### Passing variables to [`minimize()`](https://www.tensorflow.org/api_docs/python/tf/train/Optimizer#minimize)\n",
    "When calling the `minimize()` function of an optimizer, you can optionally specify `var_list`, a list of variables to be changed when that operation is evaluated.\n",
    "If `var_list` is None, then every variable will be changed.\n",
    "\n",
    "#### [Manually modifying gradients](https://www.tensorflow.org/api_docs/python/tf/train/Optimizer#processing_gradients_before_applying_them)\n",
    "We saw before that an optimizer's `compute_gradients()` and `apply_gradients()` functions allow us access the gradients directly.\n",
    "If you remove gradients and variables from the list returned by `compute_gradients()` before passing it to `apply_gradients()`, those variables will not be updated."
   ]
  },
  {
   "cell_type": "markdown",
   "metadata": {},
   "source": [
    "## Keras functional API\n",
    "The Keras sequential API works for models that take a single input and produce a single output by applying one layer at a time to that input.\n",
    "More sophisticated models, though, might:\n",
    " - Have more than one input or output\n",
    " - Use the output of a single layer in multiple places\n",
    " - Share the weights of a single layer in multiple places\n",
    " - Take an existing model and adds layers to it\n",
    "To do any of these things with Keras, you need the functional API.\n",
    "\n",
    "The best resource for learning the Keras functional API is [the official guide](https://keras.io/getting-started/functional-api-guide/), but the essence is:\n",
    " - Layers are functions, not objects\n",
    " - When a layer is called on a tensor, it returns a tensor\n",
    " - A `Model` object takes an input tensor and an output tensor and learns (using its interior layers and data) to predict the output tensor from the input tensor\n",
    " \n",
    "The Keras functional API seems to me to be the library that mimics how I think about differentiable programming most closely, so it's my favorite way of writing models.\n",
    "For many kinds of advanced models, it's probably the fastest.\n",
    "\n",
    "For a full worked example with the functional API, see the bottom of these notes."
   ]
  },
  {
   "cell_type": "markdown",
   "metadata": {},
   "source": [
    "## Keras backend\n",
    "Keras is designed to work with multiple backends, with TensorFlow having the most support. \n",
    "Keras' [backend](https://keras.io/backend/) module is a huge set of wrapper functions that (for the most part) call equivalents in whatever backend you're using and handle things like backpropagation and updating variables.\n",
    "\n",
    "If you're writing a model where Keras provides most, but not all, of the functionality, a good solution can be making custom layers and loss functions (using the Keras backend) rather than switching to TensorFlow.\n",
    "Keras layers are implemented as classes, which specify:\n",
    " - How their output shape depends on their input shape\n",
    " - What variables (\"weights\") they have\n",
    " - How they create output from input, as a small dataflow graph written using the Keras baackend\n",
    " \n",
    "\n",
    "Keras has an [official guide on writing layers](https://keras.io/layers/writing-your-own-keras-layers/), which you should read if you're interested.\n",
    "The [source code for built-in layers](https://github.com/keras-team/keras/tree/master/keras/layers) is also a good example of how to do this.\n"
   ]
  },
  {
   "cell_type": "markdown",
   "metadata": {},
   "source": [
    "## Adversarial examples\n",
    "![adversarial panda](https://openai.com/content/images/2017/02/adversarial_img_1.png)\n",
    "(Image source: [OpenAI post on adversarial example research](https://blog.openai.com/adversarial-example-research/))\n",
    "\n",
    "An \"adversarial example\" is an input that seems close to a \"normal input\" but has added **adversarial noise** designed specifically to trick a model.\n",
    "Adversarial noise is \"trained\" through gradient descent, given the weights of a particular model.\n",
    "\n",
    "It's derived from a simple observation.\n",
    "Traditionally (within a single batch) we hold the image input to a model fixed, and change the parameters of the model to minimize some quantity.\n",
    "But, our whole model is differentiable, so there's nothing stopping us from instead holding the weights of the model constant and changing the _input image_ -- backpropagation lets us compute the gradient of the loss with respect to every pixel of the input.\n",
    "Adversarial noise is trained by using this trick to change the input image to _maximize_ the loss while holding the network weights fixed.\n",
    "The noise is kept small (either with regularization which penalizes the norm of the noise, or \"clipping\" the noise pixels to a maximum value) to ensure that the input still looks, to the human eye, pretty much how it should.\n",
    "\n",
    "Properties of adversarial examples, and how to defend against them, are a [topic of current research](https://blog.openai.com/adversarial-example-research/).\n",
    "In general, we don't know how to stop adversarial attacks on neural networks.\n",
    "\n",
    "It might seem like, given the description above, that you need all of the weights of a model downloaded to create adversarial examples for it.\n",
    "But, as you'll find out in this week's assignment, it's actually sufficient to just be able to provide the model input and see output."
   ]
  },
  {
   "cell_type": "markdown",
   "metadata": {},
   "source": [
    "## Example: adversarial examples with the Keras functional API"
   ]
  },
  {
   "cell_type": "markdown",
   "metadata": {},
   "source": [
    "### Set up data\n",
    "I'm using the \"fashion MNIST\" dataset built into Keras.\n",
    "It's very similar to MNIST (the same number of 28x28 greyscale images, in 10 categories), but considered somewhat harder."
   ]
  },
  {
   "cell_type": "code",
   "execution_count": 4,
   "metadata": {},
   "outputs": [],
   "source": [
    "from keras.datasets import fashion_mnist\n",
    "\n",
    "(x_train, labels_train), (x_test, labels_test) = fashion_mnist.load_data()\n",
    "\n",
    "# Create one-hot vectors\n",
    "y_train = keras.utils.to_categorical(labels_train)\n",
    "y_test = keras.utils.to_categorical(labels_test)\n",
    "\n",
    "# Put input in the range [0, 1]\n",
    "x_train = x_train.astype('float32') / 255.\n",
    "x_test = x_test.astype('float32') / 255.\n",
    "\n",
    "# Add a dummy channel dimension\n",
    "x_train = np.expand_dims(x_train, axis=-1)\n",
    "x_test = np.expand_dims(x_test, axis=-1)\n",
    "\n",
    "# Map from label number to class name\n",
    "label_dict = {\n",
    "    0: 'Top',\n",
    "    1: 'Trouser',\n",
    "    2: 'Pullover',\n",
    "    3: 'Dress',\n",
    "    4: 'Coat',\n",
    "    5: 'Sandal',\n",
    "    6: 'Shirt',\n",
    "    7: 'Sneaker',\n",
    "    8: 'Bag',\n",
    "    9: 'Ankle boot'\n",
    "}\n",
    "\n",
    "# Dataset properties\n",
    "img_shape = x_train.shape[1:]\n",
    "n_train = x_train.shape[0]\n",
    "n_test = x_test.shape[0]"
   ]
  },
  {
   "cell_type": "code",
   "execution_count": 5,
   "metadata": {},
   "outputs": [
    {
     "data": {
      "text/plain": [
       "Text(0.5, 1.0, 'Ankle boot')"
      ]
     },
     "execution_count": 5,
     "metadata": {},
     "output_type": "execute_result"
    },
    {
     "data": {
      "image/png": "[encoded data removed]",
      "text/plain": [
       "<Figure size 432x288 with 1 Axes>"
      ]
     },
     "metadata": {
      "needs_background": "light"
     },
     "output_type": "display_data"
    }
   ],
   "source": [
    "plt.imshow(x_train[0, :, :, 0], cmap='gray')\n",
    "plt.title(label_dict[labels_train[0]])"
   ]
  },
  {
   "cell_type": "markdown",
   "metadata": {},
   "source": [
    "### Make a Keras layer for adding noise\n",
    "Learning a matrix of noise to add to an image isn't supported by default in Keras, so we'll define a custom layer that does that."
   ]
  },
  {
   "cell_type": "code",
   "execution_count": 6,
   "metadata": {},
   "outputs": [],
   "source": [
    "from keras.layers import Layer\n",
    "from keras import backend as K\n",
    "\n",
    "class AdversarialNoise(Layer):\n",
    "    # Called when making a new layer of this kind\n",
    "    def build(self, input_shape):\n",
    "        # Add a variable to this model which has shape (28, 28, 1), is\n",
    "        # initialized to zeros, and is constrained to have norm less than 0.1\n",
    "        self.noise = self.add_weight(\n",
    "            name='noise', shape=input_shape[1:], initializer='zero',\n",
    "            constraint=tf.keras.constraints.MaxNorm(0.1))\n",
    "        \n",
    "        super(AdversarialNoise, self).build(input_shape)\n",
    "\n",
    "    # Called when input is passed through the layer\n",
    "    def call(self, x):\n",
    "        # The image the model will see is a pixel-wise sum \n",
    "        # of the input and the noise\n",
    "        return K.bias_add(x, self.noise)\n",
    "    \n",
    "    def compute_output_shape(self, input_shape):\n",
    "        return input_shape"
   ]
  },
  {
   "cell_type": "markdown",
   "metadata": {},
   "source": [
    "### Make tensors for the input image and the noise"
   ]
  },
  {
   "cell_type": "code",
   "execution_count": 7,
   "metadata": {},
   "outputs": [],
   "source": [
    "from keras.layers import Input, Add, Lambda\n",
    "\n",
    "# Creates a tensor that will hold the model input\n",
    "input_image = Input(img_shape, name='input_image')\n",
    "\n",
    "# This is what the model will see\n",
    "noised_image = AdversarialNoise(name='noised_image')(input_image)"
   ]
  },
  {
   "cell_type": "markdown",
   "metadata": {},
   "source": [
    "### Add hidden layers to the model"
   ]
  },
  {
   "cell_type": "code",
   "execution_count": 8,
   "metadata": {},
   "outputs": [],
   "source": [
    "from keras.layers import Conv2D, MaxPool2D, Dense, Flatten\n",
    "\n",
    "# Again, when I call a layer like Conv2D(...) what's returned\n",
    "# is a function that I then apply to a tensor.\n",
    "layer = Conv2D(16, 3, strides=2, \n",
    "               padding='same', activation='relu')(noised_image)\n",
    "layer = Conv2D(32, 3, padding='same', activation='relu')(layer)\n",
    "layer = MaxPool2D()(layer)\n",
    "layer = Conv2D(64, 3, padding='same', activation='relu')(layer)\n",
    "layer = Conv2D(64, 3, padding='same', activation='relu')(layer)\n",
    "layer = MaxPool2D()(layer)\n",
    "\n",
    "layer = Flatten()(layer)\n",
    "layer = Dense(128, activation='relu')(layer)\n",
    "output_probs = Dense(10, activation='softmax', \n",
    "                     name='output_probs')(layer)"
   ]
  },
  {
   "cell_type": "markdown",
   "metadata": {},
   "source": [
    "### Build and compile model"
   ]
  },
  {
   "cell_type": "code",
   "execution_count": 9,
   "metadata": {},
   "outputs": [
    {
     "name": "stdout",
     "output_type": "stream",
     "text": [
      "_________________________________________________________________\n",
      "Layer (type)                 Output Shape              Param #   \n",
      "=================================================================\n",
      "input_image (InputLayer)     (None, 28, 28, 1)         0         \n",
      "_________________________________________________________________\n",
      "noised_image (AdversarialNoi (None, 28, 28, 1)         784       \n",
      "_________________________________________________________________\n",
      "conv2d_1 (Conv2D)            (None, 14, 14, 16)        160       \n",
      "_________________________________________________________________\n",
      "conv2d_2 (Conv2D)            (None, 14, 14, 32)        4640      \n",
      "_________________________________________________________________\n",
      "max_pooling2d_1 (MaxPooling2 (None, 7, 7, 32)          0         \n",
      "_________________________________________________________________\n",
      "conv2d_3 (Conv2D)            (None, 7, 7, 64)          18496     \n",
      "_________________________________________________________________\n",
      "conv2d_4 (Conv2D)            (None, 7, 7, 64)          36928     \n",
      "_________________________________________________________________\n",
      "max_pooling2d_2 (MaxPooling2 (None, 3, 3, 64)          0         \n",
      "_________________________________________________________________\n",
      "flatten_1 (Flatten)          (None, 576)               0         \n",
      "_________________________________________________________________\n",
      "dense_1 (Dense)              (None, 128)               73856     \n",
      "_________________________________________________________________\n",
      "output_probs (Dense)         (None, 10)                1290      \n",
      "=================================================================\n",
      "Total params: 136,154\n",
      "Trainable params: 136,154\n",
      "Non-trainable params: 0\n",
      "_________________________________________________________________\n"
     ]
    }
   ],
   "source": [
    "from keras.models import Model\n",
    "from keras.optimizers import Adam\n",
    "\n",
    "model = Model(input_image, output_probs)\n",
    "model.summary()\n",
    "\n",
    "# Prevent the model from changing the adversarial noise from zero\n",
    "model.get_layer('noised_image').trainable = False\n",
    "\n",
    "optimizer = Adam(lr=1e-3)\n",
    "model.compile(optimizer, loss='categorical_crossentropy',\n",
    "              metrics=['accuracy'])"
   ]
  },
  {
   "cell_type": "markdown",
   "metadata": {},
   "source": [
    "### Train model on fashion MNIST\n",
    "Before we generate the adversarial example, we need to train the model.\n",
    "So, we hold the noise at 0 and train the model as normal."
   ]
  },
  {
   "cell_type": "code",
   "execution_count": 10,
   "metadata": {
    "scrolled": true
   },
   "outputs": [
    {
     "name": "stdout",
     "output_type": "stream",
     "text": [
      "Train on 60000 samples, validate on 10000 samples\n",
      "Epoch 1/10\n",
      "60000/60000 [==============================] - 11s 189us/step - loss: 0.5195 - acc: 0.8102 - val_loss: 0.3776 - val_acc: 0.8647\n",
      "Epoch 2/10\n",
      "60000/60000 [==============================] - 14s 237us/step - loss: 0.3175 - acc: 0.8844 - val_loss: 0.3176 - val_acc: 0.8804\n",
      "Epoch 3/10\n",
      "60000/60000 [==============================] - 10s 163us/step - loss: 0.2720 - acc: 0.8987 - val_loss: 0.2819 - val_acc: 0.8943\n",
      "Epoch 4/10\n",
      "60000/60000 [==============================] - 6s 99us/step - loss: 0.2413 - acc: 0.9115 - val_loss: 0.2910 - val_acc: 0.8906\n",
      "Epoch 5/10\n",
      "60000/60000 [==============================] - 9s 144us/step - loss: 0.2184 - acc: 0.9197 - val_loss: 0.2556 - val_acc: 0.9076\n",
      "Epoch 6/10\n",
      "60000/60000 [==============================] - 8s 129us/step - loss: 0.1973 - acc: 0.9268 - val_loss: 0.2512 - val_acc: 0.9111\n",
      "Epoch 7/10\n",
      "60000/60000 [==============================] - 8s 128us/step - loss: 0.1787 - acc: 0.9341 - val_loss: 0.2610 - val_acc: 0.9056\n",
      "Epoch 8/10\n",
      "60000/60000 [==============================] - 6s 97us/step - loss: 0.1622 - acc: 0.9396 - val_loss: 0.2571 - val_acc: 0.9126\n",
      "Epoch 9/10\n",
      "60000/60000 [==============================] - 6s 95us/step - loss: 0.1456 - acc: 0.9455 - val_loss: 0.2467 - val_acc: 0.9155\n",
      "Epoch 10/10\n",
      "60000/60000 [==============================] - 6s 107us/step - loss: 0.1313 - acc: 0.9504 - val_loss: 0.2549 - val_acc: 0.9175\n"
     ]
    },
    {
     "data": {
      "text/plain": [
       "<keras.callbacks.History at 0x7fa4a47d54a8>"
      ]
     },
     "execution_count": 10,
     "metadata": {},
     "output_type": "execute_result"
    }
   ],
   "source": [
    "model.fit(x_train, y_train, batch_size=64, epochs=10,\n",
    "          validation_data=(x_test, y_test))"
   ]
  },
  {
   "cell_type": "code",
   "execution_count": 11,
   "metadata": {},
   "outputs": [
    {
     "data": {
      "image/png": "[encoded data removed]",
      "text/plain": [
       "<Figure size 432x288 with 3 Axes>"
      ]
     },
     "metadata": {
      "needs_background": "light"
     },
     "output_type": "display_data"
    }
   ],
   "source": [
    "# Plot some predictions now that the model's trained\n",
    "_, plots = plt.subplots(ncols=3)\n",
    "plt.tight_layout()\n",
    "\n",
    "for i in range(3):\n",
    "    idx = np.random.randint(x_test.shape[0])\n",
    "    \n",
    "    probs = model.predict(np.array([x_test[idx]]))[0]\n",
    "    pred = label_dict[np.argmax(probs)]\n",
    "    confidence = np.max(probs)\n",
    "    \n",
    "    plots[i].imshow(x_test[idx, :, :, 0], cmap='gray')\n",
    "    plots[i].axis('off')\n",
    "    plots[i].set_title(\n",
    "        '''\n",
    "        True: {0}\n",
    "        Predicted: {1}\n",
    "        Confidence:{2:0.3f}'''.format(label_dict[labels_test[idx]], \n",
    "                                      pred, confidence))"
   ]
  },
  {
   "cell_type": "markdown",
   "metadata": {},
   "source": [
    "### Prepare the model for training an adversarial example\n",
    "Now, we'll freeze every layer except the noise and train to _maximize_ the loss."
   ]
  },
  {
   "cell_type": "code",
   "execution_count": 12,
   "metadata": {},
   "outputs": [
    {
     "name": "stdout",
     "output_type": "stream",
     "text": [
      "_________________________________________________________________\n",
      "Layer (type)                 Output Shape              Param #   \n",
      "=================================================================\n",
      "input_image (InputLayer)     (None, 28, 28, 1)         0         \n",
      "_________________________________________________________________\n",
      "noised_image (AdversarialNoi (None, 28, 28, 1)         784       \n",
      "_________________________________________________________________\n",
      "conv2d_1 (Conv2D)            (None, 14, 14, 16)        160       \n",
      "_________________________________________________________________\n",
      "conv2d_2 (Conv2D)            (None, 14, 14, 32)        4640      \n",
      "_________________________________________________________________\n",
      "max_pooling2d_1 (MaxPooling2 (None, 7, 7, 32)          0         \n",
      "_________________________________________________________________\n",
      "conv2d_3 (Conv2D)            (None, 7, 7, 64)          18496     \n",
      "_________________________________________________________________\n",
      "conv2d_4 (Conv2D)            (None, 7, 7, 64)          36928     \n",
      "_________________________________________________________________\n",
      "max_pooling2d_2 (MaxPooling2 (None, 3, 3, 64)          0         \n",
      "_________________________________________________________________\n",
      "flatten_1 (Flatten)          (None, 576)               0         \n",
      "_________________________________________________________________\n",
      "dense_1 (Dense)              (None, 128)               73856     \n",
      "_________________________________________________________________\n",
      "output_probs (Dense)         (None, 10)                1290      \n",
      "=================================================================\n",
      "Total params: 136,154\n",
      "Trainable params: 784\n",
      "Non-trainable params: 135,370\n",
      "_________________________________________________________________\n"
     ]
    }
   ],
   "source": [
    "from keras.losses import categorical_crossentropy\n",
    "\n",
    "# Create a custom loss function that's just the negative of\n",
    "# the default loss.\n",
    "def adversarial_loss(y_true, y_pred):\n",
    "    return -1 * categorical_crossentropy(y_true, y_pred)\n",
    "\n",
    "# Prevent the model from changing any of its parameters\n",
    "for layer in model.layers:\n",
    "    layer.trainable = False\n",
    "    \n",
    "# Train the noise\n",
    "model.get_layer('noised_image').trainable = True\n",
    "\n",
    "# Re-compile the model to use adversarial loss\n",
    "model.compile(optimizer, loss=adversarial_loss)\n",
    "model.summary()"
   ]
  },
  {
   "cell_type": "markdown",
   "metadata": {},
   "source": [
    "### Train the adversarial example"
   ]
  },
  {
   "cell_type": "code",
   "execution_count": 13,
   "metadata": {},
   "outputs": [
    {
     "data": {
      "image/png": "[encoded data removed]",
      "text/plain": [
       "<Figure size 432x288 with 1 Axes>"
      ]
     },
     "metadata": {
      "needs_background": "light"
     },
     "output_type": "display_data"
    }
   ],
   "source": [
    "# Pick the image to turn into an adversarial example\n",
    "x_adversarial = x_test[1]\n",
    "y_adversarial = y_test[1]\n",
    "plt.imshow(x_adversarial[:, :, 0], cmap='gray')\n",
    "\n",
    "# This will be a \"dataset\" of 1 image\n",
    "x_adversarial = np.expand_dims(x_adversarial, axis=0)\n",
    "y_adversarial = np.expand_dims(y_adversarial, axis=0)\n",
    "\n",
    "# Train the model to minimize the adversarial loss\n",
    "for _ in range(100):\n",
    "    model.train_on_batch(x_adversarial, y_adversarial)"
   ]
  },
  {
   "cell_type": "markdown",
   "metadata": {},
   "source": [
    "### Extract and plot the adversarial noise\n",
    "The adversarial noise is stored as weights in the model now.\n",
    "We need to pull it out of the model as an image."
   ]
  },
  {
   "cell_type": "code",
   "execution_count": 14,
   "metadata": {
    "scrolled": false
   },
   "outputs": [
    {
     "data": {
      "text/plain": [
       "(-0.5, 27.5, 27.5, -0.5)"
      ]
     },
     "execution_count": 14,
     "metadata": {},
     "output_type": "execute_result"
    },
    {
     "data": {
      "image/png": "[encoded data removed]",
      "text/plain": [
       "<Figure size 432x288 with 2 Axes>"
      ]
     },
     "metadata": {
      "needs_background": "light"
     },
     "output_type": "display_data"
    }
   ],
   "source": [
    "# Extract the noise from the layer weights\n",
    "noise_layer = model.get_layer('noised_image')\n",
    "adversarial_noise = noise_layer.get_weights()[0]\n",
    "\n",
    "# Set the layer's weights to zero\n",
    "noise_layer.set_weights([np.zeros_like(adversarial_noise)])\n",
    "\n",
    "plt.imshow(adversarial_noise[:, :, 0])\n",
    "plt.title('Adversarial noise')\n",
    "plt.colorbar()\n",
    "plt.axis('off')"
   ]
  },
  {
   "cell_type": "markdown",
   "metadata": {},
   "source": [
    "### Use the adversarial noise\n",
    "Finally, it's time to use the adversarial example.\n",
    "It makes the network fail dramatically:"
   ]
  },
  {
   "cell_type": "code",
   "execution_count": 15,
   "metadata": {
    "scrolled": true
   },
   "outputs": [
    {
     "data": {
      "text/plain": [
       "Text(0.5, 1.0, '\\n    Image with adversarial noise\\n    True: Pullover\\n    Predicted: Coat\\n    Confidence:0.980')"
      ]
     },
     "execution_count": 15,
     "metadata": {},
     "output_type": "execute_result"
    },
    {
     "data": {
      "image/png": "[encoded data removed]",
      "text/plain": [
       "<Figure size 432x288 with 2 Axes>"
      ]
     },
     "metadata": {
      "needs_background": "light"
     },
     "output_type": "display_data"
    }
   ],
   "source": [
    "_, plots = plt.subplots(ncols=2)\n",
    "plt.tight_layout()\n",
    "\n",
    "img = np.array([x_test[1]])\n",
    "lbl = label_dict[labels_test[1]]\n",
    "\n",
    "# Plot the model's predictions on the original image\n",
    "probs = model.predict(img)[0]\n",
    "pred = label_dict[np.argmax(probs)]\n",
    "confidence = np.max(probs)\n",
    " \n",
    "plots[0].imshow(img[0, :, :, 0], cmap='gray')\n",
    "plots[0].axis('off')\n",
    "plots[0].set_title(\n",
    "    '''\n",
    "    Original Image\n",
    "    True: {0}\n",
    "    Predicted: {1}\n",
    "    Confidence:{2:0.3f}'''.format(lbl, pred, confidence))\n",
    "\n",
    "# Plot the model's predictions on the noised image\n",
    "img_noised = img + adversarial_noise\n",
    "probs = model.predict(img_noised)[0]\n",
    "pred = label_dict[np.argmax(probs)]\n",
    "confidence = np.max(probs)\n",
    " \n",
    "plots[1].imshow(img_noised[0, :, :, 0], cmap='gray')\n",
    "plots[1].axis('off')\n",
    "plots[1].set_title(\n",
    "    '''\n",
    "    Image with adversarial noise\n",
    "    True: {0}\n",
    "    Predicted: {1}\n",
    "    Confidence:{2:0.3f}'''.format(lbl, pred, confidence))"
   ]
  }
 ],
 "metadata": {
  "kernelspec": {
   "display_name": "Python 3",
   "language": "python",
   "name": "python3"
  },
  "language_info": {
   "codemirror_mode": {
    "name": "ipython",
    "version": 3
   },
   "file_extension": ".py",
   "mimetype": "text/x-python",
   "name": "python",
   "nbconvert_exporter": "python",
   "pygments_lexer": "ipython3",
   "version": "3.7.0"
  }
 },
 "nbformat": 4,
 "nbformat_minor": 2
}
