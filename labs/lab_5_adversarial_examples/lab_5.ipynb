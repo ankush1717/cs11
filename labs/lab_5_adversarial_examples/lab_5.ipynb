{
 "cells": [
  {
   "cell_type": "markdown",
   "metadata": {},
   "source": [
    "# Lab 5: A Black-Box Adversarial Attack\n",
    "In this lab, we'll carry out an adversarial attack in the **black box** case: we don't have the weights of the network we're trying to trick (the **target model**), and instead we can only give it inputs and see its outputs.\n",
    "\n",
    "Black-box adversarial attacks are based on the fact that adversarial examples are _transferable_: if it tricks one network, it will likely trick another (but less well).\n",
    "So, since we need network weights to make adversarial examples, we train a second model, the **surrogate model**, to act like the target model.\n",
    "To do this, we'll use the target model as an \"oracle\" to make a dataset where the features are from real examples, and the labels are the outputs of the target model on those examples.\n",
    "If the surrogate model learns to output the same probabilities as the target model on a given input, its internal representations are likely similar.\n",
    "Then, when we make an adversarial example for the surrogate model, it should also trick the target model.\n",
    "\n",
    "The end result of this lab should be an image which looks close to some image in the dataset, but tricks the target network into assigning high confidence to some other class. "
   ]
  },
  {
   "cell_type": "markdown",
   "metadata": {},
   "source": [
    "## Section 0: Load the data\n",
    "This uses the same dataset as last time, so just copy the data over here in the same format.\n",
    "The same data loading and preprocessing as before is in place."
   ]
  },
  {
   "cell_type": "code",
   "execution_count": 1,
   "metadata": {},
   "outputs": [],
   "source": [
    "%matplotlib inline\n",
    "import numpy as np\n",
    "import tensorflow as tf\n",
    "import matplotlib.pyplot as plt"
   ]
  },
  {
   "cell_type": "code",
   "execution_count": 2,
   "metadata": {},
   "outputs": [],
   "source": [
    "# Seed numpy rng for reproducibility\n",
    "np.random.seed(1337)\n",
    "\n",
    "# Load data\n",
    "x_all = np.load('data/X.npy')\n",
    "y_all = np.load('data/Y.npy')\n",
    "\n",
    "# Maps dataset-provided label to true label\n",
    "label_map = {0:9, 1:0, 2:7, 3:6, 4:1, 5:8, 6:4, 7:3, 8:2, 9:5}\n",
    "\n",
    "# Correct dataset labels\n",
    "for row in range(y_all.shape[0]):\n",
    "    dataset_label = np.where(y_all[row])[0][0]\n",
    "    y_all[row, :] = np.zeros(10)\n",
    "    y_all[row, label_map[dataset_label]] = 1\n",
    "    \n",
    "# Shuffle features and targets together\n",
    "# Credit for this technique to:\n",
    "# https://stackoverflow.com/questions/4601373/\n",
    "# better-way-to-shuffle-two-numpy-arrays-in-unison\n",
    "rng_state = np.random.get_state()\n",
    "np.random.shuffle(x_all)\n",
    "np.random.set_state(rng_state)\n",
    "np.random.shuffle(y_all)\n",
    "\n",
    "# Add a dummy channel axis to input images\n",
    "x_all = np.expand_dims(x_all, axis=-1)\n",
    "\n",
    "# Center and rescale data to the range [-1, 1]\n",
    "x_all = x_all - 0.5\n",
    "x_all = x_all * 2\n",
    "\n",
    "# Create a validation set from 30% of the available data\n",
    "n_points = x_all.shape[0]\n",
    "n_test = int(n_points * 0.3)\n",
    "n_train = n_points - n_test\n",
    "x_train, x_test = np.split(x_all, [n_train], axis=0)\n",
    "y_train, y_test = np.split(y_all, [n_train], axis=0)"
   ]
  },
  {
   "cell_type": "code",
   "execution_count": 3,
   "metadata": {},
   "outputs": [
    {
     "data": {
      "text/plain": [
       "(2062, 64, 64, 1)"
      ]
     },
     "execution_count": 3,
     "metadata": {},
     "output_type": "execute_result"
    }
   ],
   "source": [
    "x_all.shape"
   ]
  },
  {
   "cell_type": "markdown",
   "metadata": {},
   "source": [
    "## Section 1: Train the black-box model\n",
    "Below, I've written a CNN in Keras to classify images from the dataset, and the code to train it.\n",
    "This will act as the \"black box model.\"\n",
    "\n",
    "Train the model using the code below.\n",
    "It should hit about 95-96% validation accuracy on the dataset."
   ]
  },
  {
   "cell_type": "code",
   "execution_count": 4,
   "metadata": {},
   "outputs": [
    {
     "name": "stdout",
     "output_type": "stream",
     "text": [
      "WARNING:tensorflow:From /Library/Frameworks/Python.framework/Versions/3.7/lib/python3.7/site-packages/tensorflow/python/framework/op_def_library.py:263: colocate_with (from tensorflow.python.framework.ops) is deprecated and will be removed in a future version.\n",
      "Instructions for updating:\n",
      "Colocations handled automatically by placer.\n",
      "_________________________________________________________________\n",
      "Layer (type)                 Output Shape              Param #   \n",
      "=================================================================\n",
      "input_1 (InputLayer)         (None, 64, 64, 1)         0         \n",
      "_________________________________________________________________\n",
      "conv2d_1 (Conv2D)            (None, 30, 30, 16)        416       \n",
      "_________________________________________________________________\n",
      "conv2d_2 (Conv2D)            (None, 28, 28, 16)        2320      \n",
      "_________________________________________________________________\n",
      "max_pooling2d_1 (MaxPooling2 (None, 14, 14, 16)        0         \n",
      "_________________________________________________________________\n",
      "conv2d_3 (Conv2D)            (None, 12, 12, 32)        4640      \n",
      "_________________________________________________________________\n",
      "conv2d_4 (Conv2D)            (None, 10, 10, 32)        9248      \n",
      "_________________________________________________________________\n",
      "max_pooling2d_2 (MaxPooling2 (None, 5, 5, 32)          0         \n",
      "_________________________________________________________________\n",
      "conv2d_5 (Conv2D)            (None, 5, 5, 64)          18496     \n",
      "_________________________________________________________________\n",
      "conv2d_6 (Conv2D)            (None, 5, 5, 64)          36928     \n",
      "_________________________________________________________________\n",
      "max_pooling2d_3 (MaxPooling2 (None, 2, 2, 64)          0         \n",
      "_________________________________________________________________\n",
      "flatten_1 (Flatten)          (None, 256)               0         \n",
      "_________________________________________________________________\n",
      "dense_1 (Dense)              (None, 128)               32896     \n",
      "_________________________________________________________________\n",
      "dense_2 (Dense)              (None, 10)                1290      \n",
      "=================================================================\n",
      "Total params: 106,234\n",
      "Trainable params: 106,234\n",
      "Non-trainable params: 0\n",
      "_________________________________________________________________\n"
     ]
    },
    {
     "name": "stderr",
     "output_type": "stream",
     "text": [
      "Using TensorFlow backend.\n"
     ]
    }
   ],
   "source": [
    "from keras.models import Model\n",
    "from keras.layers import Input, Conv2D, Dense, Flatten, MaxPool2D\n",
    "\n",
    "inputs = Input(shape=(64, 64, 1))\n",
    "layer = Conv2D(16, 5, strides=(2, 2), activation='relu')(inputs)\n",
    "layer = Conv2D(16, 3, activation='relu')(layer)\n",
    "layer = MaxPool2D()(layer)\n",
    "\n",
    "layer = Conv2D(32, 3, activation='relu')(layer)\n",
    "layer = Conv2D(32, 3, activation='relu')(layer)\n",
    "layer = MaxPool2D()(layer)\n",
    "\n",
    "layer = Conv2D(64, 3, padding='same', activation='relu')(layer)\n",
    "layer = Conv2D(64, 3, padding='same', activation='relu')(layer)\n",
    "layer = MaxPool2D()(layer)\n",
    "\n",
    "layer = Flatten()(layer)\n",
    "layer = Dense(128, activation='relu')(layer)\n",
    "probs = Dense(10, activation='softmax')(layer)\n",
    "\n",
    "target_model = Model(inputs, probs)\n",
    "target_model.summary()"
   ]
  },
  {
   "cell_type": "code",
   "execution_count": 5,
   "metadata": {},
   "outputs": [],
   "source": [
    "from keras.optimizers import Adam\n",
    "\n",
    "opt = Adam(1e-3)\n",
    "target_model.compile(opt, loss='categorical_crossentropy',\n",
    "              metrics=['accuracy'])"
   ]
  },
  {
   "cell_type": "code",
   "execution_count": 6,
   "metadata": {},
   "outputs": [
    {
     "name": "stdout",
     "output_type": "stream",
     "text": [
      "WARNING:tensorflow:From /Library/Frameworks/Python.framework/Versions/3.7/lib/python3.7/site-packages/tensorflow/python/ops/math_ops.py:3066: to_int32 (from tensorflow.python.ops.math_ops) is deprecated and will be removed in a future version.\n",
      "Instructions for updating:\n",
      "Use tf.cast instead.\n",
      "Train on 1444 samples, validate on 618 samples\n",
      "Epoch 1/15\n",
      "1444/1444 [==============================] - 3s 2ms/step - loss: 2.0512 - acc: 0.2507 - val_loss: 1.3017 - val_acc: 0.5761\n",
      "Epoch 2/15\n",
      "1444/1444 [==============================] - 3s 2ms/step - loss: 0.8818 - acc: 0.7091 - val_loss: 0.5658 - val_acc: 0.8172\n",
      "Epoch 3/15\n",
      "1444/1444 [==============================] - 3s 2ms/step - loss: 0.5094 - acc: 0.8289 - val_loss: 0.4001 - val_acc: 0.8738\n",
      "Epoch 4/15\n",
      "1444/1444 [==============================] - 3s 2ms/step - loss: 0.3347 - acc: 0.8850 - val_loss: 0.4409 - val_acc: 0.8560\n",
      "Epoch 5/15\n",
      "1444/1444 [==============================] - 2s 2ms/step - loss: 0.2363 - acc: 0.9211 - val_loss: 0.2824 - val_acc: 0.9159\n",
      "Epoch 6/15\n",
      "1444/1444 [==============================] - 2s 2ms/step - loss: 0.1415 - acc: 0.9543 - val_loss: 0.2611 - val_acc: 0.9175\n",
      "Epoch 7/15\n",
      "1444/1444 [==============================] - 2s 2ms/step - loss: 0.1369 - acc: 0.9584 - val_loss: 0.1951 - val_acc: 0.9385\n",
      "Epoch 8/15\n",
      "1444/1444 [==============================] - 3s 2ms/step - loss: 0.1318 - acc: 0.9605 - val_loss: 0.2002 - val_acc: 0.9498\n",
      "Epoch 9/15\n",
      "1444/1444 [==============================] - 2s 2ms/step - loss: 0.0301 - acc: 0.9938 - val_loss: 0.2144 - val_acc: 0.9498\n",
      "Epoch 10/15\n",
      "1444/1444 [==============================] - 2s 2ms/step - loss: 0.0121 - acc: 0.9965 - val_loss: 0.2360 - val_acc: 0.9434\n",
      "Epoch 11/15\n",
      "1444/1444 [==============================] - 3s 2ms/step - loss: 0.0131 - acc: 0.9965 - val_loss: 0.3690 - val_acc: 0.9272\n",
      "Epoch 12/15\n",
      "1444/1444 [==============================] - 2s 2ms/step - loss: 0.0196 - acc: 0.9931 - val_loss: 0.2063 - val_acc: 0.9531\n",
      "Epoch 13/15\n",
      "1444/1444 [==============================] - 2s 2ms/step - loss: 0.0464 - acc: 0.9799 - val_loss: 0.3386 - val_acc: 0.9223\n",
      "Epoch 14/15\n",
      "1444/1444 [==============================] - 2s 1ms/step - loss: 0.0277 - acc: 0.9903 - val_loss: 0.2436 - val_acc: 0.9466\n",
      "Epoch 15/15\n",
      "1444/1444 [==============================] - 3s 2ms/step - loss: 0.0351 - acc: 0.9889 - val_loss: 0.1874 - val_acc: 0.9579\n"
     ]
    },
    {
     "data": {
      "text/plain": [
       "<keras.callbacks.History at 0x11bdfa518>"
      ]
     },
     "execution_count": 6,
     "metadata": {},
     "output_type": "execute_result"
    }
   ],
   "source": [
    "target_model.fit(x_train, y_train, \n",
    "                 validation_data=(x_test, y_test),\n",
    "                 epochs=15)"
   ]
  },
  {
   "cell_type": "markdown",
   "metadata": {},
   "source": [
    "## Section 2: Build an \"oracle dataset\" and data pipeline\n",
    "Now, we'll treat the target model as a black box: pretend we don't have access to its weights or its original input data.\n",
    "In the wild, all we can do is give it inputs and see its outputs.\n",
    "\n",
    "We want to train a surrogate model to act similarly to the target model, so create a fake \"oracle dataset\" where the features are `x_all` and the outputs are the 10-vectors of probability the target model predicts for that input.\n",
    "\n",
    "Then, set up any `tf.data.Dataset` and `tf.data.Iterator` objects you need.\n",
    "In this case we don't have a test set, just a training set."
   ]
  },
  {
   "cell_type": "code",
   "execution_count": 7,
   "metadata": {},
   "outputs": [],
   "source": [
    "y_oracle = target_model.predict(x_all)"
   ]
  },
  {
   "cell_type": "code",
   "execution_count": 8,
   "metadata": {},
   "outputs": [],
   "source": [
    "n_epochs = 15\n",
    "batch_size = 32\n",
    "dataset_train = tf.data.Dataset.from_tensor_slices((x_all, y_oracle))\\\n",
    "    .shuffle(500).batch(batch_size).cache()"
   ]
  },
  {
   "cell_type": "code",
   "execution_count": 9,
   "metadata": {},
   "outputs": [],
   "source": [
    "iterator = tf.data.Iterator.from_structure(\n",
    "    dataset_train.output_types, \n",
    "    dataset_train.output_shapes)\n",
    "\n",
    "train_init_op = iterator.make_initializer(dataset_train)"
   ]
  },
  {
   "cell_type": "markdown",
   "metadata": {},
   "source": [
    "## Section 3: Build a surrogate model\n",
    "The surrogate model is designed to act similarly to the target model, so that adversarial examples we create for it will also work on the target model.\n",
    "Feel free to use any architecture you want, but matching the target architecture closely (maybe with a bit more capacity) is a good bet.\n",
    "\n",
    "Copy code from last week's assignment liberally.\n",
    "Most likely, you won't have to write all that much new code in this section."
   ]
  },
  {
   "cell_type": "markdown",
   "metadata": {},
   "source": [
    "### 3.1: Input tensors\n",
    "Get a tensor for the input image and another for the correct label.\n",
    "Note that the label is already one-hot encoded."
   ]
  },
  {
   "cell_type": "code",
   "execution_count": 10,
   "metadata": {},
   "outputs": [],
   "source": [
    "with tf.name_scope('inputs'):\n",
    "    next_elem = iterator.get_next()\n",
    "    features = tf.identity(next_elem[0], name='features')\n",
    "    digit = tf.identity(next_elem[1],name='digit')"
   ]
  },
  {
   "cell_type": "markdown",
   "metadata": {},
   "source": [
    "### 3.2: Adversarial noise\n",
    "This is the only part of the model that really differs from last week, and it's a bit tricky.\n",
    "\n",
    "Add a variable to the graph that represents the adversarial noise we'll add to one example.\n",
    "It should be the shape of a single input image and initialized to zeros.\n",
    "In addition, pass (to `get_variable`) the keyword argument `constraint=lambda x: tf.clip_by_value(x, -0.3, 0.3)`.\n",
    "Every time the variable is updated, it will become the result of the lambda function, which in this case constrains its pixel values to be in the range -0.3 to 0.3.\n",
    "(Equivalently, at every step we re-project the adversarial noise back into a hypercube at the origin with side length 0.6).\n",
    "I found that 0.3 works well, but feel free to change this value -- smaller values will produce less obvious noise, while larger values will produce more successful attacks. \n",
    "\n",
    "Add a boolean `tf.placeholder_with_default()` (default False) named \"use_noise\" to the graph.\n",
    "This will act as a \"switch\" controlling whether a given run uses adversarial noise.\n",
    "\n",
    "Add a `tf.cond()` operation that, depending on \"use_noise\", switches between the input image and the image plus the adversarial noise.\n",
    "This allows us to train the surrogate model without adversarial noise, then enable it when crafting the adversarial example.\n",
    "\n",
    "Finally, add a summary histogram and a summary image for the adversarial noise tensor, so we can plot it as we're learning the adversarial example.\n",
    "Also add a summary image for the output of `cond`, which will be our adversarial example later"
   ]
  },
  {
   "cell_type": "code",
   "execution_count": 11,
   "metadata": {},
   "outputs": [],
   "source": [
    "noise = tf.get_variable('noise', shape=(1, 64, 64, 1), dtype=tf.float32,\n",
    "                          initializer=tf.zeros_initializer(), \n",
    "                        constraint=lambda x: tf.clip_by_value(x, -0.3, 0.3))"
   ]
  },
  {
   "cell_type": "code",
   "execution_count": 12,
   "metadata": {},
   "outputs": [],
   "source": [
    "use_noise = tf.placeholder_with_default(False, shape=(), name='use_noise')\n",
    "\n",
    "cond = tf.cond(use_noise, lambda: features + noise, lambda: features)\n",
    "\n",
    "adv_noise_img = tf.summary.image('adversarial_noise', noise)\n",
    "adv_noise_hist = tf.summary.histogram('adversarial_noise', noise)\n",
    "\n",
    "cond_img = tf.summary.image('conditional', cond)"
   ]
  },
  {
   "cell_type": "markdown",
   "metadata": {},
   "source": [
    "### 3.3: The rest of the model\n",
    "Using the functions `make_dense_layer()` and `make_conv_layer()` you wrote last week, finish the graph of the surrogate model.\n",
    "The only difference is that instead of using the input image, you should use the output of the `cond()` switch before, to allow adding adversarial noise.\n",
    "Don't add the optimizer yet.\n",
    "\n",
    "This should involve tensors that:\n",
    " - Act as hidden convolutional and dense layers\n",
    " - Compute the logits and probabilities for a batch of input images\n",
    " - Compute the predicted digit from the probabilities\n",
    " - Compute the mean cross-entropy loss over a batch"
   ]
  },
  {
   "cell_type": "code",
   "execution_count": 13,
   "metadata": {},
   "outputs": [],
   "source": [
    "def make_dense_layer(prev_activations, dim_input, dim_output, \n",
    "                     do_activation=True, postfix=''):\n",
    "    '''\n",
    "    Adds a dense layer to the model graph.\n",
    "    \n",
    "    Parameters\n",
    "    ----------\n",
    "    prev_activations: tensor\n",
    "        The activations of the previous layer, or \n",
    "        the input for the first dense layer.\n",
    "    dim_input: int\n",
    "        Number of features in the input representation.\n",
    "    dim_output: int\n",
    "        Number of features in the output representation.\n",
    "        Equivalently, number of units in this layer.\n",
    "    do_activation: bool\n",
    "        Whether or not to apply ReLU activation.\n",
    "    postfix: string\n",
    "        Postfix on name and variable scopes in this layer.\n",
    "        Used to simplify visualizations.\n",
    "        \n",
    "    Returns\n",
    "    -------\n",
    "    A tensor representing the activations of this layer.\n",
    "    '''\n",
    "    with tf.name_scope('dense' + postfix):\n",
    "        with tf.variable_scope('dense' + postfix):\n",
    "            weights = tf.get_variable('weights', shape=(dim_input, dim_output), dtype=tf.float32,\n",
    "                          initializer=tf.initializers.he_uniform())\n",
    "            bias = tf.get_variable('bias', shape=(dim_output), dtype=tf.float32, \n",
    "                                   initializer=tf.zeros_initializer())\n",
    "        output = tf.matmul(prev_activations, weights) + bias\n",
    "        if do_activation:\n",
    "            output = tf.nn.relu(output)\n",
    "        return output    "
   ]
  },
  {
   "cell_type": "code",
   "execution_count": 14,
   "metadata": {},
   "outputs": [],
   "source": [
    "def make_conv_layer(input_, input_channels, n_filters,\n",
    "                    filter_size=3, stride=1, \n",
    "                    do_activation=True, pool_size=1,\n",
    "                    add_summary=False, postfix='', pad='SAME', max_pad='SAME'):\n",
    "    '''\n",
    "    Adds a convolutional layer to the model graph.\n",
    "    \n",
    "    Parameters\n",
    "    ----------\n",
    "    input_: tensor\n",
    "        The activations of the previous layer, or \n",
    "        the input for the first dense layer.\n",
    "    input_channels: int\n",
    "        Number of channels in the input representation.\n",
    "    n_filters: int\n",
    "        Number of channels in the output representation.\n",
    "        Equivalently, number of filters in this layer.\n",
    "    filter_size: int\n",
    "        Width and height of each kernel in the layer's filters.\n",
    "    stride: int\n",
    "        Stride to use in the x and y directions for the\n",
    "        convolution operation.\n",
    "    do_activation: bool\n",
    "        Whether or not to apply ReLU activation.\n",
    "    pool_size: int\n",
    "        If > 1, does max pooling of this size to the\n",
    "        width and height axes of the activation.\n",
    "    add_summary: bool\n",
    "        Whether or not to log activations as summary images.\n",
    "    postfix: string\n",
    "        Postfix on name and variable scopes in this layer.\n",
    "        Used to simplify visualizations.\n",
    "        \n",
    "    Returns\n",
    "    -------\n",
    "    A tensor representing the activations of this layer.\n",
    "    '''\n",
    "    with tf.name_scope('conv' + postfix):\n",
    "        with tf.variable_scope('conv' + postfix):\n",
    "            filters = tf.get_variable('filters', shape=(filter_size, filter_size, input_channels, \n",
    "                          n_filters), dtype=tf.float32, initializer=tf.initializers.he_uniform())\n",
    "            biases = tf.get_variable('biases', shape=(1, 1, 1, n_filters), dtype=tf.float32, initializer=tf.zeros_initializer())\n",
    "            \n",
    "        output = tf.nn.conv2d(input_, filters, strides=[1,stride,stride,1], padding=pad) + biases\n",
    "        if do_activation:\n",
    "            output = tf.nn.relu(output)\n",
    "        if add_summary:\n",
    "            for i in range(n_filters):\n",
    "                tf.summary.image('activation' + str(i), tf.expand_dims(output[:,:,:,i],-1))\n",
    "        if pool_size > 1:\n",
    "            output = tf.nn.max_pool(output, [1,pool_size,pool_size,1], [1,pool_size,pool_size,1], padding=max_pad)\n",
    "        return output    \n",
    "        "
   ]
  },
  {
   "cell_type": "code",
   "execution_count": 15,
   "metadata": {},
   "outputs": [],
   "source": [
    "conv_1 = make_conv_layer(cond, 1, 16, pad='VALID', filter_size=5, stride=2, postfix='1')\n",
    "conv_2 = make_conv_layer(conv_1, 16, 16, pad='VALID', pool_size=2, postfix='2')\n",
    "conv_3 = make_conv_layer(conv_2, 16, 32, pad='VALID', postfix='3')\n",
    "conv_4 = make_conv_layer(conv_3, 32, 32, pad='VALID', pool_size=2, postfix='4')\n",
    "conv_5 = make_conv_layer(conv_4, 32, 64, postfix='5')\n",
    "conv_6 = make_conv_layer(conv_5, 64, 64, pool_size=2, postfix='6', max_pad='VALID')\n",
    "flatten = tf.reshape(conv_6, [-1, 256])\n",
    "dense_1 = make_dense_layer(flatten, 256, 128, True, '1')\n",
    "logits = make_dense_layer(dense_1, 128, 10, False, 'out')\n",
    "probs = tf.nn.softmax(logits)\n"
   ]
  },
  {
   "cell_type": "code",
   "execution_count": 16,
   "metadata": {},
   "outputs": [
    {
     "data": {
      "text/plain": [
       "<tf.Tensor 'loss_1:0' shape=() dtype=string>"
      ]
     },
     "execution_count": 16,
     "metadata": {},
     "output_type": "execute_result"
    }
   ],
   "source": [
    "loss_per_example = tf.nn.softmax_cross_entropy_with_logits_v2(digit, logits)\n",
    "loss_batch = tf.reduce_mean(loss_per_example)\n",
    "tf.summary.scalar('loss', loss_batch)"
   ]
  },
  {
   "cell_type": "code",
   "execution_count": 17,
   "metadata": {},
   "outputs": [
    {
     "data": {
      "text/plain": [
       "<tf.Tensor 'accuracy:0' shape=() dtype=string>"
      ]
     },
     "execution_count": 17,
     "metadata": {},
     "output_type": "execute_result"
    }
   ],
   "source": [
    "pred = tf.argmax(probs, axis=1)\n",
    "correct = tf.argmax(digit, axis=1)\n",
    "num_correct = tf.reduce_sum(tf.cast(tf.equal(pred, correct), tf.float32))\n",
    "accuracy = num_correct / tf.cast(tf.shape(probs)[0], tf.float32)\n",
    "\n",
    "tf.summary.scalar('accuracy', accuracy)"
   ]
  },
  {
   "cell_type": "markdown",
   "metadata": {},
   "source": [
    "### 3.4: Surrogate optimizer\n",
    "Add an optimizer and update operation we'll use to train the surrogate model to act like the target model.\n",
    "It should just minimize the cross-entropy loss between the model's predictions and the targets."
   ]
  },
  {
   "cell_type": "code",
   "execution_count": 18,
   "metadata": {},
   "outputs": [],
   "source": [
    "optimizer = tf.train.AdamOptimizer()\n",
    "optimize_step = optimizer.minimize(loss_batch)"
   ]
  },
  {
   "cell_type": "markdown",
   "metadata": {},
   "source": [
    "### 3.5: Adversarial loss\n",
    "When training the surrogate model, we want to change the model parameters to minimize the loss.\n",
    "When creating the adversarial example, we want to do something very different: _change the adversarial noise tensor alone to maximize the loss_.\n",
    "\n",
    "So, define a new adversarial loss which is the negative of the original loss, and a new optimizer to minimize it.\n",
    "When you call `minimize()`, pass in the keyword argument `var_list=[noise]`, where \"noise\" is the name of your adversarial noise tensor.\n",
    "This will prevent the optimizer from changing the weights of the model when we optimize the adversarial noise.\n",
    "\n",
    "Finally, add a summary scalar to plot the adversarial loss decreasing."
   ]
  },
  {
   "cell_type": "code",
   "execution_count": 19,
   "metadata": {},
   "outputs": [
    {
     "data": {
      "text/plain": [
       "<tf.Tensor 'adv_loss:0' shape=() dtype=string>"
      ]
     },
     "execution_count": 19,
     "metadata": {},
     "output_type": "execute_result"
    }
   ],
   "source": [
    "adversarial_loss = -loss_batch\n",
    "optimizer_adv = tf.train.AdamOptimizer()\n",
    "optimize_step_adv = optimizer.minimize(adversarial_loss, var_list=[noise])\n",
    "\n",
    "tf.summary.scalar('adv_loss', adversarial_loss)"
   ]
  },
  {
   "cell_type": "markdown",
   "metadata": {},
   "source": [
    "## 4: Train the surrogate model\n",
    "Train your surrogate model until it hits high accuracy.\n",
    "At the very least it should have 90% accuracy -- I hit 98-100% on the training set.\n",
    "Overfitting isn't really a concern here since we are actually trying to memorize the peculiarities of the target model.\n",
    "\n",
    "When the training loop is done, save the model under `./checkpoints/model_surrogate.ckpt`.\n",
    "We won't be modifying this particular checkpoint any more, it'll contain the fully-trained surrogate model with zero adversarial noise."
   ]
  },
  {
   "cell_type": "code",
   "execution_count": 20,
   "metadata": {},
   "outputs": [
    {
     "name": "stdout",
     "output_type": "stream",
     "text": [
      "Epoch: 0\n",
      "Average loss: 1.689477\n",
      "Average accuracy: 0.417899\n",
      "Epoch: 1\n",
      "Average loss: 0.5238173\n",
      "Average accuracy: 0.83585167\n",
      "Epoch: 2\n",
      "Average loss: 0.24811618\n",
      "Average accuracy: 0.9226648\n",
      "Epoch: 3\n",
      "Average loss: 0.16363396\n",
      "Average accuracy: 0.9565934\n",
      "Epoch: 4\n",
      "Average loss: 0.10437731\n",
      "Average accuracy: 0.9774038\n",
      "Epoch: 5\n",
      "Average loss: 0.08028273\n",
      "Average accuracy: 0.9879808\n",
      "Epoch: 6\n",
      "Average loss: 0.07479338\n",
      "Average accuracy: 0.99182695\n",
      "Epoch: 7\n",
      "Average loss: 0.05754125\n",
      "Average accuracy: 0.99375\n",
      "Epoch: 8\n",
      "Average loss: 0.059848383\n",
      "Average accuracy: 0.99567306\n",
      "Epoch: 9\n",
      "Average loss: 0.06493696\n",
      "Average accuracy: 0.9883242\n",
      "Epoch: 10\n",
      "Average loss: 0.05865464\n",
      "Average accuracy: 0.9947115\n",
      "Epoch: 11\n",
      "Average loss: 0.06204449\n",
      "Average accuracy: 0.99361265\n",
      "Epoch: 12\n",
      "Average loss: 0.05973729\n",
      "Average accuracy: 0.9916896\n",
      "Epoch: 13\n",
      "Average loss: 0.070570424\n",
      "Average accuracy: 0.99375\n",
      "Epoch: 14\n",
      "Average loss: 0.059516236\n",
      "Average accuracy: 0.9913462\n"
     ]
    }
   ],
   "source": [
    "merged_summaries = tf.summary.merge_all()\n",
    "saver = tf.train.Saver()\n",
    "\n",
    "train_batch = 0\n",
    "\n",
    "with tf.Session() as sess:\n",
    "    # Make one writer for training logs and another for test logs \n",
    "    train_writer = tf.summary.FileWriter('./logs_lab/train', graph=sess.graph)\n",
    "    test_writer = tf.summary.FileWriter('./logs_lab/test')\n",
    "    \n",
    "    # Initialize all variables\n",
    "    sess.run(tf.global_variables_initializer())\n",
    "    \n",
    "    # Training loop\n",
    "    for epoch in range(n_epochs):\n",
    "        # Load training data\n",
    "        sess.run(train_init_op)\n",
    "        \n",
    "        losses = []\n",
    "        accuracies = []\n",
    "        \n",
    "        # Iterate over the dataset once\n",
    "        while True:\n",
    "            try:\n",
    "                if train_batch > 0: # Typical batch\n",
    "                    # Run summary ops and optimization\n",
    "                    summary, loss, acc, _ = sess.run([merged_summaries, loss_batch, accuracy, optimize_step])\n",
    "                    losses.append(loss)\n",
    "                    accuracies.append(acc)\n",
    "                    train_writer.add_summary(summary, train_batch)\n",
    "                    train_batch += 1\n",
    "                else:\n",
    "                    # On the first batch, run a full trace\n",
    "                    run_options = tf.RunOptions(trace_level=tf.RunOptions.FULL_TRACE)\n",
    "                    run_metadata = tf.RunMetadata()\n",
    "                    \n",
    "                    summary, _ = sess.run([merged_summaries, optimize_step],\n",
    "                                          options=run_options,\n",
    "                                          run_metadata=run_metadata)\n",
    "                    \n",
    "                    train_writer.add_summary(summary, train_batch)    \n",
    "                    train_writer.add_run_metadata(run_metadata, \n",
    "                                                  'first training batch')\n",
    "                    train_batch += 1\n",
    "            except tf.errors.OutOfRangeError: # No more data\n",
    "                break\n",
    "                \n",
    "        print('Epoch:', epoch)\n",
    "        average_loss = np.mean(losses)\n",
    "        average_acc = np.mean(accuracies)\n",
    "        print('Average loss:', average_loss)\n",
    "        print('Average accuracy:', average_acc)\n",
    "        \n",
    "    # Save model\n",
    "    saver.save(sess, './checkpoints/model_surrogate.ckpt')    "
   ]
  },
  {
   "cell_type": "markdown",
   "metadata": {},
   "source": [
    "## 5. Learn the adversarial example\n",
    "Finally, it's time to create an adversarial example using our surrogate model.\n",
    "Pick an image from the test set (or use the one I picked below), then run a training loop to minimize the adversarial loss (equivalently, maximize the model loss on that example).\n",
    "To do this, use `sess.run(..., feed_dict={pixels: [img], label: [lbl], use_noise: True})`.\n",
    "This turns on the `use_noise` switch we set before, and overwrites the input image batch with a \"batch\" containing only the single image we're going to turn into an adversarial example.\n",
    "\n",
    "At the start, load the checkpoint we saved before.\n",
    "When it's done, save it to a new checkpoint, `./checkpoints/model_adversarial.ckpt`.\n",
    "This new checkpoint should have exactly the same model parameters as before (remember that we're only optimizing the noise), but a nonzero noise tensor.\n",
    "\n",
    "At the end, also save the adversarial example (which will be contained in the result of your `cond`) and the noise tensor to a numpy array so we can use them later.\n",
    "\n",
    "Periodically write the image and histogram summaries so you can look at them in TensorBoard later."
   ]
  },
  {
   "cell_type": "code",
   "execution_count": 21,
   "metadata": {},
   "outputs": [
    {
     "data": {
      "text/plain": [
       "Text(0.5,1,'True label: 9')"
      ]
     },
     "execution_count": 21,
     "metadata": {},
     "output_type": "execute_result"
    },
    {
     "data": {
      "image/png": "[encoded data removed]",
      "text/plain": [
       "<Figure size 432x288 with 1 Axes>"
      ]
     },
     "metadata": {},
     "output_type": "display_data"
    }
   ],
   "source": [
    "# Pick and plot the image we'll turn into an adversarial example\n",
    "idx = 1\n",
    "img = x_test[idx]\n",
    "lbl = y_test[idx]\n",
    "\n",
    "plt.imshow(img[:, :, 0], cmap='gray')\n",
    "plt.title('True label: {}'.format(np.argmax(lbl)))"
   ]
  },
  {
   "cell_type": "code",
   "execution_count": 22,
   "metadata": {},
   "outputs": [
    {
     "name": "stdout",
     "output_type": "stream",
     "text": [
      "WARNING:tensorflow:From /Library/Frameworks/Python.framework/Versions/3.7/lib/python3.7/site-packages/tensorflow/python/training/saver.py:1266: checkpoint_exists (from tensorflow.python.training.checkpoint_management) is deprecated and will be removed in a future version.\n",
      "Instructions for updating:\n",
      "Use standard file APIs to check for files with this prefix.\n",
      "INFO:tensorflow:Restoring parameters from ./checkpoints/model_surrogate.ckpt\n",
      "Epoch: 0\n",
      "loss: 0.0037513853\n",
      "accuracy: 1.0\n",
      "Epoch: 1\n",
      "loss: 0.0064511383\n",
      "accuracy: 1.0\n",
      "Epoch: 2\n",
      "loss: 0.013235568\n",
      "accuracy: 1.0\n",
      "Epoch: 3\n",
      "loss: 0.029652402\n",
      "accuracy: 1.0\n",
      "Epoch: 4\n",
      "loss: 0.06523436\n",
      "accuracy: 1.0\n",
      "Epoch: 5\n",
      "loss: 0.14446563\n",
      "accuracy: 1.0\n",
      "Epoch: 6\n",
      "loss: 0.31480578\n",
      "accuracy: 1.0\n",
      "Epoch: 7\n",
      "loss: 0.6282021\n",
      "accuracy: 1.0\n",
      "Epoch: 8\n",
      "loss: 1.1542956\n",
      "accuracy: 0.0\n",
      "Epoch: 9\n",
      "loss: 1.8962561\n",
      "accuracy: 0.0\n",
      "Epoch: 10\n",
      "loss: 2.8123846\n",
      "accuracy: 0.0\n",
      "Epoch: 11\n",
      "loss: 3.8206282\n",
      "accuracy: 0.0\n",
      "Epoch: 12\n",
      "loss: 4.900335\n",
      "accuracy: 0.0\n",
      "Epoch: 13\n",
      "loss: 5.9302545\n",
      "accuracy: 0.0\n",
      "Epoch: 14\n",
      "loss: 6.9392705\n",
      "accuracy: 0.0\n",
      "Epoch: 15\n",
      "loss: 7.925747\n",
      "accuracy: 0.0\n",
      "Epoch: 16\n",
      "loss: 8.886602\n",
      "accuracy: 0.0\n",
      "Epoch: 17\n",
      "loss: 9.757723\n",
      "accuracy: 0.0\n",
      "Epoch: 18\n",
      "loss: 10.533549\n",
      "accuracy: 0.0\n",
      "Epoch: 19\n",
      "loss: 11.240261\n",
      "accuracy: 0.0\n",
      "Epoch: 20\n",
      "loss: 11.940318\n",
      "accuracy: 0.0\n",
      "Epoch: 21\n",
      "loss: 12.611555\n",
      "accuracy: 0.0\n",
      "Epoch: 22\n",
      "loss: 13.2677145\n",
      "accuracy: 0.0\n",
      "Epoch: 23\n",
      "loss: 13.955414\n",
      "accuracy: 0.0\n",
      "Epoch: 24\n",
      "loss: 14.639348\n",
      "accuracy: 0.0\n",
      "Epoch: 25\n",
      "loss: 15.30267\n",
      "accuracy: 0.0\n",
      "Epoch: 26\n",
      "loss: 15.919008\n",
      "accuracy: 0.0\n",
      "Epoch: 27\n",
      "loss: 16.44217\n",
      "accuracy: 0.0\n",
      "Epoch: 28\n",
      "loss: 16.93489\n",
      "accuracy: 0.0\n",
      "Epoch: 29\n",
      "loss: 17.440222\n",
      "accuracy: 0.0\n",
      "Epoch: 30\n",
      "loss: 17.923332\n",
      "accuracy: 0.0\n",
      "Epoch: 31\n",
      "loss: 18.393604\n",
      "accuracy: 0.0\n",
      "Epoch: 32\n",
      "loss: 18.84476\n",
      "accuracy: 0.0\n",
      "Epoch: 33\n",
      "loss: 19.251616\n",
      "accuracy: 0.0\n",
      "Epoch: 34\n",
      "loss: 19.614902\n",
      "accuracy: 0.0\n",
      "Epoch: 35\n",
      "loss: 19.992876\n",
      "accuracy: 0.0\n",
      "Epoch: 36\n",
      "loss: 20.371384\n",
      "accuracy: 0.0\n",
      "Epoch: 37\n",
      "loss: 20.742342\n",
      "accuracy: 0.0\n",
      "Epoch: 38\n",
      "loss: 21.110725\n",
      "accuracy: 0.0\n",
      "Epoch: 39\n",
      "loss: 21.46265\n",
      "accuracy: 0.0\n",
      "Epoch: 40\n",
      "loss: 21.815617\n",
      "accuracy: 0.0\n",
      "Epoch: 41\n",
      "loss: 22.170698\n",
      "accuracy: 0.0\n",
      "Epoch: 42\n",
      "loss: 22.52802\n",
      "accuracy: 0.0\n",
      "Epoch: 43\n",
      "loss: 22.880503\n",
      "accuracy: 0.0\n",
      "Epoch: 44\n",
      "loss: 23.237011\n",
      "accuracy: 0.0\n",
      "Epoch: 45\n",
      "loss: 23.59793\n",
      "accuracy: 0.0\n",
      "Epoch: 46\n",
      "loss: 23.958654\n",
      "accuracy: 0.0\n",
      "Epoch: 47\n",
      "loss: 24.304605\n",
      "accuracy: 0.0\n",
      "Epoch: 48\n",
      "loss: 24.650848\n",
      "accuracy: 0.0\n",
      "Epoch: 49\n",
      "loss: 24.99708\n",
      "accuracy: 0.0\n",
      "Epoch: 50\n",
      "loss: 25.337934\n",
      "accuracy: 0.0\n",
      "Epoch: 51\n",
      "loss: 25.673063\n",
      "accuracy: 0.0\n",
      "Epoch: 52\n",
      "loss: 26.001095\n",
      "accuracy: 0.0\n",
      "Epoch: 53\n",
      "loss: 26.312279\n",
      "accuracy: 0.0\n",
      "Epoch: 54\n",
      "loss: 26.614004\n",
      "accuracy: 0.0\n",
      "Epoch: 55\n",
      "loss: 26.91191\n",
      "accuracy: 0.0\n",
      "Epoch: 56\n",
      "loss: 27.208525\n",
      "accuracy: 0.0\n",
      "Epoch: 57\n",
      "loss: 27.504932\n",
      "accuracy: 0.0\n",
      "Epoch: 58\n",
      "loss: 27.789968\n",
      "accuracy: 0.0\n",
      "Epoch: 59\n",
      "loss: 28.064127\n",
      "accuracy: 0.0\n",
      "Epoch: 60\n",
      "loss: 28.336544\n",
      "accuracy: 0.0\n",
      "Epoch: 61\n",
      "loss: 28.60977\n",
      "accuracy: 0.0\n",
      "Epoch: 62\n",
      "loss: 28.88118\n",
      "accuracy: 0.0\n",
      "Epoch: 63\n",
      "loss: 29.151709\n",
      "accuracy: 0.0\n",
      "Epoch: 64\n",
      "loss: 29.420996\n",
      "accuracy: 0.0\n",
      "Epoch: 65\n",
      "loss: 29.686676\n",
      "accuracy: 0.0\n",
      "Epoch: 66\n",
      "loss: 29.951115\n",
      "accuracy: 0.0\n",
      "Epoch: 67\n",
      "loss: 30.214378\n",
      "accuracy: 0.0\n",
      "Epoch: 68\n",
      "loss: 30.472971\n",
      "accuracy: 0.0\n",
      "Epoch: 69\n",
      "loss: 30.728168\n",
      "accuracy: 0.0\n",
      "Epoch: 70\n",
      "loss: 30.98124\n",
      "accuracy: 0.0\n",
      "Epoch: 71\n",
      "loss: 31.227402\n",
      "accuracy: 0.0\n",
      "Epoch: 72\n",
      "loss: 31.46214\n",
      "accuracy: 0.0\n",
      "Epoch: 73\n",
      "loss: 31.697254\n",
      "accuracy: 0.0\n",
      "Epoch: 74\n",
      "loss: 31.927319\n",
      "accuracy: 0.0\n",
      "Epoch: 75\n",
      "loss: 32.149708\n",
      "accuracy: 0.0\n",
      "Epoch: 76\n",
      "loss: 32.36473\n",
      "accuracy: 0.0\n",
      "Epoch: 77\n",
      "loss: 32.57757\n",
      "accuracy: 0.0\n",
      "Epoch: 78\n",
      "loss: 32.78397\n",
      "accuracy: 0.0\n",
      "Epoch: 79\n",
      "loss: 32.987576\n",
      "accuracy: 0.0\n",
      "Epoch: 80\n",
      "loss: 33.185974\n",
      "accuracy: 0.0\n",
      "Epoch: 81\n",
      "loss: 33.381996\n",
      "accuracy: 0.0\n",
      "Epoch: 82\n",
      "loss: 33.572716\n",
      "accuracy: 0.0\n",
      "Epoch: 83\n",
      "loss: 33.760406\n",
      "accuracy: 0.0\n",
      "Epoch: 84\n",
      "loss: 33.943527\n",
      "accuracy: 0.0\n",
      "Epoch: 85\n",
      "loss: 34.12881\n",
      "accuracy: 0.0\n",
      "Epoch: 86\n",
      "loss: 34.310272\n",
      "accuracy: 0.0\n",
      "Epoch: 87\n",
      "loss: 34.486073\n",
      "accuracy: 0.0\n",
      "Epoch: 88\n",
      "loss: 34.656876\n",
      "accuracy: 0.0\n",
      "Epoch: 89\n",
      "loss: 34.821136\n",
      "accuracy: 0.0\n",
      "Epoch: 90\n",
      "loss: 34.984554\n",
      "accuracy: 0.0\n",
      "Epoch: 91\n",
      "loss: 35.14544\n",
      "accuracy: 0.0\n",
      "Epoch: 92\n",
      "loss: 35.30228\n",
      "accuracy: 0.0\n",
      "Epoch: 93\n",
      "loss: 35.454956\n",
      "accuracy: 0.0\n",
      "Epoch: 94\n",
      "loss: 35.603077\n",
      "accuracy: 0.0\n",
      "Epoch: 95\n",
      "loss: 35.747845\n",
      "accuracy: 0.0\n",
      "Epoch: 96\n",
      "loss: 35.889736\n",
      "accuracy: 0.0\n",
      "Epoch: 97\n",
      "loss: 36.027912\n",
      "accuracy: 0.0\n",
      "Epoch: 98\n",
      "loss: 36.164307\n",
      "accuracy: 0.0\n",
      "Epoch: 99\n",
      "loss: 36.297707\n",
      "accuracy: 0.0\n"
     ]
    }
   ],
   "source": [
    "merged_summaries = tf.summary.merge_all()\n",
    "saver = tf.train.Saver()\n",
    "with tf.Session() as sess:\n",
    "    # Make one writer for training logs and another for test logs \n",
    "    train_writer = tf.summary.FileWriter('./logs_lab/train', graph=sess.graph)\n",
    "    saver.restore(sess, './checkpoints/model_surrogate.ckpt')\n",
    "    \n",
    "    # Training loop\n",
    "    for epoch in range(100):\n",
    "        # Load training data\n",
    "        sess.run(train_init_op)\n",
    "        summary, loss, acc, _ = sess.run([merged_summaries, loss_batch, accuracy, optimize_step_adv], feed_dict={features: [img], digit: [lbl], use_noise: True})\n",
    "        train_writer.add_summary(summary, train_batch)\n",
    "                \n",
    "        print('Epoch:', epoch)\n",
    "        print('loss:', loss)\n",
    "        print('accuracy:', acc)\n",
    "        \n",
    "    adv_example = sess.run(cond, feed_dict={features: [img], digit: [lbl], use_noise: True})[0]\n",
    "    noise_array = noise.eval()[0]\n",
    "        \n",
    "    # Save model\n",
    "    saver.save(sess, './checkpoints/model_adversarial.ckpt')    "
   ]
  },
  {
   "cell_type": "markdown",
   "metadata": {},
   "source": [
    "## 6: Visualize the adversarial example\n",
    "Plot the original example, the adversarial example, and the adversarial noise below."
   ]
  },
  {
   "cell_type": "code",
   "execution_count": 23,
   "metadata": {},
   "outputs": [
    {
     "data": {
      "text/plain": [
       "(-0.5, 63.5, 63.5, -0.5)"
      ]
     },
     "execution_count": 23,
     "metadata": {},
     "output_type": "execute_result"
    },
    {
     "data": {
      "image/png": "[encoded data removed]",
      "text/plain": [
       "<Figure size 432x288 with 2 Axes>"
      ]
     },
     "metadata": {},
     "output_type": "display_data"
    }
   ],
   "source": [
    "plt.imshow(noise_array[:, :, 0])\n",
    "plt.title('Adversarial noise')\n",
    "plt.colorbar()\n",
    "plt.axis('off')"
   ]
  },
  {
   "cell_type": "code",
   "execution_count": 24,
   "metadata": {},
   "outputs": [
    {
     "data": {
      "text/plain": [
       "Text(0.5,1,'Image with Adversarial Noise')"
      ]
     },
     "execution_count": 24,
     "metadata": {},
     "output_type": "execute_result"
    },
    {
     "data": {
      "image/png": "[encoded data removed]",
      "text/plain": [
       "<Figure size 432x288 with 2 Axes>"
      ]
     },
     "metadata": {},
     "output_type": "display_data"
    }
   ],
   "source": [
    "_, plots = plt.subplots(ncols=2)\n",
    "plt.tight_layout()\n",
    "\n",
    " \n",
    "plots[0].imshow(img[:, :, 0], cmap='gray')\n",
    "plots[0].axis('off')\n",
    "plots[0].set_title('Original Image')\n",
    "\n",
    "plots[1].imshow(adv_example[:, :, 0], cmap='gray')\n",
    "plots[1].axis('off')\n",
    "plots[1].set_title('Image with Adversarial Noise')\n"
   ]
  },
  {
   "cell_type": "markdown",
   "metadata": {},
   "source": [
    "## 7: Demonstrate that the surrogate model fails on the adversarial example\n",
    "Compute the surrogate model's prediction and probability for the original example and the adversarial example, and compare them."
   ]
  },
  {
   "cell_type": "code",
   "execution_count": 25,
   "metadata": {},
   "outputs": [
    {
     "name": "stdout",
     "output_type": "stream",
     "text": [
      "INFO:tensorflow:Restoring parameters from ./checkpoints/model_surrogate.ckpt\n"
     ]
    },
    {
     "data": {
      "image/png": "[encoded data removed]",
      "text/plain": [
       "<Figure size 432x288 with 2 Axes>"
      ]
     },
     "metadata": {},
     "output_type": "display_data"
    }
   ],
   "source": [
    "with tf.Session() as sess:\n",
    "    _, plots = plt.subplots(ncols=2)\n",
    "    plt.tight_layout()\n",
    "\n",
    "    saver.restore(sess, './checkpoints/model_surrogate.ckpt')\n",
    "\n",
    "    # Plot the model's predictions on the original image\n",
    "    probs_np, pred_np = sess.run([probs, pred], feed_dict={features: [img]})\n",
    "    confidence = np.max(probs_np)\n",
    "\n",
    "    plots[0].imshow(img[:, :, 0], cmap='gray')\n",
    "    plots[0].axis('off')\n",
    "    plots[0].set_title(\n",
    "        '''\n",
    "        Original Image\n",
    "        True: {0}\n",
    "        Predicted: {1}\n",
    "        Confidence:{2:0.3f}'''.format(np.argmax(lbl), pred_np[0], confidence))\n",
    "\n",
    "    # Plot the model's predictions on the noised image\n",
    "    probs_np, pred_np = sess.run([probs, pred], feed_dict={features: [adv_example]})\n",
    "    confidence = np.max(probs_np)\n",
    "\n",
    "    plots[1].imshow(adv_example[:, :, 0], cmap='gray')\n",
    "    plots[1].axis('off')\n",
    "    plots[1].set_title(\n",
    "        '''\n",
    "        Image with adversarial noise\n",
    "        True: {0}\n",
    "        Predicted: {1}\n",
    "        Confidence:{2:0.3f}'''.format(np.argmax(lbl), pred_np[0], confidence))"
   ]
  },
  {
   "cell_type": "markdown",
   "metadata": {},
   "source": [
    "## 8: Demonstrate that the target model fails on the adversarial example\n",
    "This is the real test -- transferring the learned adversarial example from the surrogate model to the target model.\n",
    "Compute the target model's prediction and probability for the original example and the adversarial example, and compare them."
   ]
  },
  {
   "cell_type": "code",
   "execution_count": 26,
   "metadata": {},
   "outputs": [
    {
     "data": {
      "text/plain": [
       "Text(0.5,1,'\\n    Image with adversarial noise\\n    True: 9\\n    Predicted: 4\\n    Confidence:0.781')"
      ]
     },
     "execution_count": 26,
     "metadata": {},
     "output_type": "execute_result"
    },
    {
     "data": {
      "image/png": "[encoded data removed]",
      "text/plain": [
       "<Figure size 432x288 with 2 Axes>"
      ]
     },
     "metadata": {},
     "output_type": "display_data"
    }
   ],
   "source": [
    "_, plots = plt.subplots(ncols=2)\n",
    "plt.tight_layout()\n",
    "\n",
    "# Plot the model's predictions on the original image\n",
    "probs_t = target_model.predict(np.expand_dims(img, 0))[0]\n",
    "pred_t = np.argmax(probs_t)\n",
    "confidence = np.max(probs_t)\n",
    "\n",
    "plots[0].imshow(img[:, :, 0], cmap='gray')\n",
    "plots[0].axis('off')\n",
    "plots[0].set_title(\n",
    "    '''\n",
    "    Original Image\n",
    "    True: {0}\n",
    "    Predicted: {1}\n",
    "    Confidence:{2:0.3f}'''.format(np.argmax(lbl), pred_t, confidence))\n",
    "\n",
    "# Plot the model's predictions on the noised image\n",
    "probs_t = target_model.predict(np.expand_dims(adv_example, 0))[0]\n",
    "pred_t = np.argmax(probs_t)\n",
    "confidence = np.max(probs_t)\n",
    "\n",
    "plots[1].imshow(adv_example[:, :, 0], cmap='gray')\n",
    "plots[1].axis('off')\n",
    "plots[1].set_title(\n",
    "    '''\n",
    "    Image with adversarial noise\n",
    "    True: {0}\n",
    "    Predicted: {1}\n",
    "    Confidence:{2:0.3f}'''.format(np.argmax(lbl), pred_t, confidence))"
   ]
  },
  {
   "cell_type": "markdown",
   "metadata": {},
   "source": [
    "# Congratulations, you've carried out a black-box adversarial attack!\n",
    "These kinds of adversarial attacks are a serious concern in the real world, since they can be [made to work when printed on paper](https://blog.openai.com/robust-adversarial-inputs/) and [we're still bad at defending against them](https://blog.openai.com/adversarial-example-research/).\n",
    "\n",
    "Some interesting things to try:\n",
    " - Did the surrogate model and the target model misclassify the adversarial example in the same way? (Mine did)\n",
    " - How subtle can you make the noise while still tricking the target network?\n",
    " - Look at how the adversarial example evolves through training in TensorBoard"
   ]
  }
 ],
 "metadata": {
  "kernelspec": {
   "display_name": "Python 3",
   "language": "python",
   "name": "python3"
  },
  "language_info": {
   "codemirror_mode": {
    "name": "ipython",
    "version": 3
   },
   "file_extension": ".py",
   "mimetype": "text/x-python",
   "name": "python",
   "nbconvert_exporter": "python",
   "pygments_lexer": "ipython3",
   "version": "3.7.0"
  }
 },
 "nbformat": 4,
 "nbformat_minor": 2
}
