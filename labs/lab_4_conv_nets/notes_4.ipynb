{
 "cells": [
  {
   "cell_type": "markdown",
   "metadata": {},
   "source": [
    "# Lab 4: Convolutional Neural Networks\n",
    "When your input is shaped \"like a grid\" (think of audio as a 1-D grid, images as a 2-D grid, 3-D scans, ...), there's a good chance it has _local structure_: points closer in the grid are more related to each other than they are to points further away.\n",
    "In images, for example, small patterns of nearby pixels can form simple patterns like edges or corners, or more complex patterns like faces.\n",
    "Pixels in the upper-left of an image are almost unrelated to pixels in the bottom-right corner, except that they're part of the same image.\n",
    "\n",
    "Another observation is that these local patterns can show up anywhere in the image.\n",
    "If you're trying to detect faces, it doesn't really matter where they are in the input.\n",
    "This suggests that we should use the same structure to detect a given pattern everywhere in an image.\n",
    "\n",
    "Convolutions let us take advantage of both of these observations.\n",
    "Instead of connecting every part of the input to every part of the output in the same way, as dense layers do, convolutional layers learn small filters which recognize local patterns and \"slide\" them around the input."
   ]
  },
  {
   "cell_type": "markdown",
   "metadata": {},
   "source": [
    "# Convolutions\n",
    "The heart of convolutional layers is an operation called \"discrete convolution\" which formalizes how we \"slide filters around the grid.\"\n",
    "\n",
    "## What does \"like a grid\" mean?\n",
    "What this really means is that the input data has some kind of _ordering_ along at least one of its axes.\n",
    "128x128-pixel color images will be represented by tensors of shape [128, 128, 3] -- the first two axes refer to the pixel, and the third picks an RGB **channel**.\n",
    "The channel axis (also sometimes called the depth axis) is not ordered, since red is no closer to green than it is to blue.\n",
    "But the first two axes are ordered: pixel (1, 1) is closer to pixel (1, 2) than it is to (1, 3) or (3, 3).\n",
    "\n",
    "Convolutional layers are designed to take advantage of this ordering, by assuming that points that are close on ordered axes are more related than points that are further away.\n",
    "Convolutions will only act on the ordered axes."
   ]
  },
  {
   "cell_type": "markdown",
   "metadata": {},
   "source": [
    "## Kernels\n",
    "Instead of a set of dense weights, convolutional layers learn a set of **kernels**, which are formatted like small patches of grid.\n",
    "In 1-D, they're 1-dimensional grid segments, in 2-D they're little squares, and in 3-D they're volumes.\n",
    "\n",
    "To compute the **activation** of a kernel in a particular location in the grid, place the kernel centered there, then compute the dot product of the kernel and the input by multiplying elements that line up and summing the results.\n",
    "\n",
    "The full result of **convolving** a kernel over an input is the set of activations produced by \"sliding\" the kernel to all locations on the input, resulting in a grid shaped like the input.\n",
    "This is often called an **activation map**.\n",
    "\n",
    "One really important thing to notice here is that _convolution preserves order_.\n",
    "When you convolve a kernel over an image, the upper-left of the activation map corresponds to the upper-left of the image.\n",
    "This means that convolutional layers can _preserve local structure_ even as you apply multiple convolutional layers in sequence.\n",
    "Compare this with dense layers, which connect every output to every input and so lose all ordering information.\n",
    "\n",
    "Another important property is that convolutions find small local patterns.\n",
    "You can think of the kernel as a \"template\".\n",
    "Its activation on a patch of image indicates how well that image patch matches the template: high positive values mean they have high \"similarity\" (note that the dot product is not actually normalized), high negative values mean they have similar structure but opposite sign, and values near zero mean that the kernel doesn't structurally match the input there.\n",
    "These \"templates\" are applied everywhere on the input, able to match the same pattern (e.g. an edge or a face) again and again.\n",
    "\n",
    "### 1D\n",
    "![1-D convolution](https://files.realpython.com/media/njanakiev-1d-convolution.d7afddde2776.png)\n",
    "(Image source: [Deep Learning with Python](https://realpython.com/asins/1617294438/))\n",
    "\n",
    "### 2D\n",
    "![2-D convolution gif](https://cdn-images-1.medium.com/max/1440/1*Zx-ZMLKab7VOCQTxdZ1OAw.gif)\n",
    "\n",
    "In this animation, the input image is the blue grid on the left, the output is the teal grid on the right, and the kernel is the square grid of weights\n",
    "$$\\begin{bmatrix}0 & 1 & 2 \\\\ 2 & 2 & 0 \\\\ 0 & 1 & 2 \\end{bmatrix}$$\n",
    "The activation at a particular location is shown by shading where the kernel is on the input and the resulting space in the output.\n",
    "\n",
    "(Image source: [\"A guide to convolution arithmetic for deep learning\"](https://arxiv.org/abs/1603.07285))"
   ]
  },
  {
   "cell_type": "markdown",
   "metadata": {},
   "source": [
    "## Filters\n",
    "Kernels act only on a single channel, and produce a single channel.\n",
    "When dealing with multi-channel data (like RGB images, or multi-band satellite imagery), the output of a convolutional layer should be based on all of the channels together.\n",
    "So, instead of using a kernel, we use a **filter**: a collection of kernels, one for each channel in the input's depth axis.\n",
    "\n",
    "![filter](https://cdn-images-1.medium.com/max/1080/1*lRpx5pTrVewFTD8YXjhIKA.png)\n",
    "\n",
    "(Image source: [\"Intuitively understanding convolutions for deep learning\"](https://towardsdatascience.com/intuitively-understanding-convolutions-for-deep-learning-1f6f42faee1))\n",
    "\n",
    "The activation of a filter at a point on an image is the sum of the activations of each of its kernels, applied to one of the channels.\n",
    "So, each filter takes in a grid of multiple channels and produces a new grid of a single channel (the activation map).\n",
    "\n",
    "To increase the capacity of a convolutional layer, we use multiple filters in parallel, analogous to the \"width\" or \"number of units\" hyperparameter for dense layers.\n",
    "The activation maps of each filter are concatenated.\n",
    "\n",
    "So, the first layer of a convolutional neural network (CNN) that operates on 128x128-pixel RGB and uses 64 5x5 filters has the following shapes:\n",
    " - Input images have shape [128, 128, 3] (pixel, pixel, channel)\n",
    " - Each kernel has shape [5, 5] (pixel, pixel)\n",
    " - Each filter has shape [5, 5, 3] (pixel, pixel, channel)\n",
    " - Each filter's activation map has shape [128, 128] (pixel, pixel)\n",
    " - The output of the layer has shape [128, 128, 64] (pixel, pixel, channel)\n",
    "(assuming that the layer is padded so the activation maps are still 128x128 pixels)\n",
    "\n",
    "Note: the next layer's filters would have shape [5, 5, 64] (assuming 5x5 convolutions).\n",
    "Examples typically come in batches, so you can think of each shape also having a batch axis.\n",
    "With a batch size of 8, for example, input image batches would have a shape of [8, 128, 128, 3].\n",
    "\n",
    "For a good visual summary, check out this diagram from [\"A guide to convolution arithmetic for deep learning\"](https://arxiv.org/abs/1603.07285): \n",
    "![multi-channel convolution](./images/convolution_channels.png)"
   ]
  },
  {
   "cell_type": "markdown",
   "metadata": {},
   "source": [
    "# Convolutional neural networks\n",
    "Since the outputs of a convolutional layer preserve ordering along ordered axes, and multiple filters result in the output having channels, _the outputs have the same format as the inputs_.\n",
    "In this case, an input 128x128 image with 3 channels is turned into an output 128x128 image with 64 channels.\n",
    "This means that we can apply another convolutional layer to the output in order to build deep convolutional neural networks!\n",
    "\n",
    "Much like when we stack dense layers, early convolutional layers capture simple patterns (like edges, corners, and textures) and later convolutional layers use patterns in those patterns to make higher-level features (like object parts and objects).\n",
    "\n",
    "![feature hierarchy](./images/feature_hierarchy.png)\n",
    "\n",
    "(Image source: skymind.ai, [\"A Beginner's Guide to Neural Networks and Deep Learning\"](https://skymind.ai/wiki/neural-network))\n",
    "\n",
    "![feature hierarchy 2](http://teleported.in/post_imgs/11-zeiler-fertus.jpg)\n",
    "(Image source: [\"Visualizing and Understanding Convolutional Networks\"](https://arxiv.org/abs/1311.2901))\n",
    "\n",
    "This is great for the \"feature extraction\" part of a neural network, but how do we use the final activation maps to do classification or regression?\n",
    "Often, the last activation map is \"flattened\" into a vector, then fed into a dense layer.\n",
    "Usually one or two dense layers, followed by an output layer, are sufficient.\n",
    "\n",
    "For example, if the last convolutional layer of a model is of shape [10, 10, 16], it will be flattened to a vector of shape [10 * 10 * 16] = [1600].\n",
    "Then, every unit in the first dense layer will have 1600 inputs."
   ]
  },
  {
   "cell_type": "markdown",
   "metadata": {},
   "source": [
    "# Interpreting convolutional layers\n",
    "Like dense layers, convolutional layers have lots of interpretations.\n",
    "\n",
    "## Learning filters\n",
    "The idea of convolving filters over images didn't originate with machine learning.\n",
    "In signal processing and image processing, hand-designed kernels are common.\n",
    "For example, hand-designed kernels exist for smoothing, sharpening, and edge detection on images.\n",
    "\n",
    "![filters](./images/filters.png)\n",
    "\n",
    "(Image source: https://en.wikipedia.org/wiki/Kernel_(image_processing))\n",
    "\n",
    "Convolutional layers can be interpreted as learning filters of this sort that produce useful features when convolved over images."
   ]
  },
  {
   "cell_type": "markdown",
   "metadata": {},
   "source": [
    "## A variant of dense layers\n",
    "Mathematically, convolutional layers are equivalent to dense layers with two very important constraints:\n",
    " - Many of the values are set to zero. This corresponds to the property that the pattern a kernel matches is local: it's based on a small number of adjacent inputs, and the weights connecting those inputs to other (non-local) outputs are zero.\n",
    " - The same weights are repeated many times in a fixed pattern. This corresponds to the property that the same kernel is applied many times on the same input.\n",
    "\n",
    "For instance, a dense layer acting on a 4x4 image to produce a 2x2 image requires (4\\*4) \\* (2\\*2) = 64 weights, arranged in a 4x16 matrix (taking in a 16-vector and producing a 4-vector through affine transformation):\n",
    "![dense layer](https://cdn-images-1.medium.com/max/1800/1*Nq-Za2-OzW8J5n7Tu7QIWw.png)\n",
    "\n",
    "However, a 3x3 kernel $K$ acting on this image just requires 3\\*3 = 9 weights.\n",
    "\n",
    "$$K = \\begin{bmatrix}k_{1,1} & k_{1,2} & k_{1 ,3} \\\\ k_{2,1} & k_{2,2} & k_{2 ,3} \\\\ k_{3,1} & k_{3,2} & k_{3 ,3} \\end{bmatrix}$$\n",
    "\n",
    "Convolving this kernel with the input can be represented as multiplying by a specific 4x16 matrix:\n",
    "![convolution as a dense layer](https://cdn-images-1.medium.com/max/1800/1*cr0IabpKu4zIyvDgCTQ64A.png)\n",
    "\n",
    "(Source of images: [\"Intuitively Understanding Convolutions for Deep Learning\"](https://towardsdatascience.com/intuitively-understanding-convolutions-for-deep-learning-1f6f42faee1))\n",
    "\n",
    "These properties lead to the interpretation of convolutions as dense layers with three very strong priors:\n",
    " - Patterns are purely local. This is also called the property of having \"sparse interactions.\" This vastly reduces the number of parameters a layer has, making convolutional layers much faster to run and train, as well as being vastly more statistically efficient (easy to learn well with the available data).\n",
    " - Parameters are shared throughout the layer (called \"weight sharing\" or \"weight tying\"). This is the prior that the same pattern can appear anywhere in an input.\n",
    " - The activation map should be **equivariant** with respect to translation. That means that if something is shifted in an image, the resulting activation is shifted by the same amount in the activation map. \n",
    "\n",
    "These priors work extremely well in practice on images and other kinds of grid-shaped data, including many kinds of time-series data (such as speech waveforms)."
   ]
  },
  {
   "cell_type": "markdown",
   "metadata": {},
   "source": [
    "## Modules / functions\n",
    "One interpretation of the value of weight sharing is that it corresponds to using the same neuron or group of neurons many places in the input like a programmer might write a function and use it many times in a program.\n",
    "\n",
    "From this perspective, forcing the network to apply the same group of neurons multiple times forces it to learn representations that are useful in many ways, leading to robust representation.\n",
    "If the prior that these \"functions\" are a good fit for the input is accurate, then learning one function and applying it many times is much easier than learning the function many times, once in each place it could be applied.\n",
    "In practice this seems to be the case.\n",
    "\n",
    "![modular conv net](https://colah.github.io/posts/2014-07-Conv-Nets-Modular/img/Conv-9-Conv2Conv2.png)\n",
    "\n",
    "In the image above, taken from Chris Olah's [\"Conv Nets: A Modular Perspective\"](https://colah.github.io/posts/2014-07-Conv-Nets-Modular/), the network:\n",
    " 1. Applies a learned function, A, to every point on the input\n",
    " 2. Applies a second learned function, B, to the outputs of A\n",
    " 3. Feeds the outputs of B into a dense layer F, which produces the output.\n",
    "In this view, F is like a large \"block of code\", kind of like a `main()` function, that chooses how to apply the functions A and B by deciding which of their activations on the input are important and how to use them.\n",
    "\n",
    "If you'd like to read more about this view, check out the blog post linked above."
   ]
  },
  {
   "cell_type": "markdown",
   "metadata": {},
   "source": [
    "# Output size, padding, receptive field, and stride\n",
    "Note: throughout this box, the animations used have the input on the bottom (blue) and the output on top (teal).\n",
    "Source: https://github.com/vdumoulin/conv_arithmetic.\n",
    "\n",
    "## Output size\n",
    "Because you can't center the kernel on the edge of the image, the output of a convolution will be slightly smaller than the input:\n",
    "![convolution without padding](https://raw.githubusercontent.com/vdumoulin/conv_arithmetic/master/gif/no_padding_no_strides.gif)\n",
    "This effect gets more significant with larger kernel sizes.\n",
    "\n",
    "## Padding\n",
    "However, it's common in many cases to pad the edges of the input so that the output and input have the same dimensions:\n",
    "\n",
    "![same padding](https://raw.githubusercontent.com/vdumoulin/conv_arithmetic/master/gif/same_padding_no_strides.gif)\n",
    "\n",
    "This is called \"same padding,\" and sometimes not padding the input is called \"valid padding\" or \"valid convolution\" (because you only place the kernel on the input where it's \"valid\").\n",
    "Usually the input is padded with zeroes (this is the only kind of padding Keras supports), though [there are some issues with this](https://twitter.com/karpathy/status/720622989289644033?lang=en).\n",
    "Sometimes \"border reflection\" is used instead.\n",
    "Zero-padding usually works fine in practice, though.\n",
    "\n",
    "Same padding is useful for a few reasons:\n",
    " - It enables deeper networks by preventing shrinkage. Even losing 2 pixels at the boundary per layer can be a big deal for deep networks operating on low-resolution inputs.\n",
    " - It prevents the model from losing information at the edges.\n",
    " - It enables more advanced architectures like Inception to use multiple different sizes of kernels within the same layer, since their outputs will all have the same size.\n",
    "\n",
    "## Receptive field\n",
    "An important quantity to think about when designing convolutional networks is **receptive field**.\n",
    "The receptive field of a pixel in an activation map is the set of pixels in the input image that contributed to making that activation.\n",
    "For example, the receptive field of a first-layer 3x3 convolution is 3x3 (said to have a \"receptive field size of 3\"), and the receptive field of a second-layer 3x3 convolution based on that is 5x5.\n",
    "Activations which are based on the entire image are said to have a \"full receptive field.\" \n",
    "\n",
    "Receptive field is important because it constrains what the network could theoretically learn.\n",
    "No matter how much data you have or how powerful your model, a 1-D convolutional network on audio won't be able to transcribe (word-by-word) a full audio clip if its output units don't have receptive field big enough to encompass an entire word.\n",
    "\n",
    "Note:\n",
    " - Not every input in the receptive field contributes equally to the output. There is the concept of an [\"effective receptive field\"](http://www.cs.toronto.edu/~wenjie/papers/nips16/top.pdf) which is much smaller than the theoretical receptive field.\n",
    " - Just because a model's receptive field theoretically enables it to learn a task doesn't mean it necessarily will. Always consider whether you have enough model capacity to carry out the task and if you have enough data for the capacity.\n",
    "\n",
    "## Stride\n",
    "A common modification is **strided convolution**, which moves the kernel more than one space per step, effectively skipping steps in order to intentionally reduce the output size:\n",
    "![strided convolution](https://raw.githubusercontent.com/vdumoulin/conv_arithmetic/master/gif/no_padding_strides.gif)\n",
    "\n",
    "This is equivalent to _downsampling_ the output, performing a normal convolution and then discarding every other pixel (in the case where stride=2).\n",
    "Reducing the output size is useful for the internal \"feature extraction\" layers of a CNN, since it makes training and running the network dramatically cheaper by reducing the number of times we must slide the kernel.\n",
    "Strided convolution also increases the receptive field out the output significantly.\n",
    "\n",
    "The cost is that the features become less precisely localized, since we're discarding some of the fine-grained position.\n",
    "\n",
    "#### Aside: other kinds of convolutions\n",
    "There are a number of different varieties of convolution that have been developed recently, and are useful in certain situations.\n",
    "Transposed convolution, dilated convolution, separable convolution, and global average pooling are all important ideas in some modern convolutional networks.\n",
    "\n",
    "For more info, you might want to skim through [\"A guide to convolution arithmetic for deep learning\"](https://arxiv.org/abs/1603.07285) or play around with a [receptive field and output size calculator](https://fomoro.com/projects/project/receptive-field-calculator)."
   ]
  },
  {
   "cell_type": "markdown",
   "metadata": {},
   "source": [
    "# Pooling\n",
    "**Pooling** is an operation very commonly used in convolutional networks.\n",
    "Pooling acts on the activation of a layer by \"grouping together\" nearby values; the most common variety is **max pooling**, which replaces every $n \\times n$ square in the activation map with the maximum activation value in that square.\n",
    "Pooling can be thought of as a sliding-window operation, much like convolution, that uses some other function instead of the linear combination function used by convolution.\n",
    "\n",
    "![maxpooling](https://computersciencewiki.org/images/8/8a/MaxpoolSample2.png)\n",
    "(Source: [Computer Science Wiki](https://computersciencewiki.org/index.php/Max-pooling_/_Pooling))\n",
    "\n",
    "Much like striding, pooling reduces the dimensionality of the output and increases receptive field size.\n",
    "More importantly, though, it makes the output _invariant to small translations_: when you shift the input a little, the output doesn't change at all.\n",
    "This makes pooling appropriate when you care more about _whether a feature is present_ than _exactly where it is_."
   ]
  },
  {
   "cell_type": "markdown",
   "metadata": {},
   "source": [
    "# Common architecture choices\n",
    "Deep convolutional networks follow some common design patterns:\n",
    " - First do \"feature extraction\" with stacked convolutional layers, then flatten and use 1-2 dense layers before the output layer. This allows the network to take advantage of the benefits of convolutional layers to build high-level features, then process those high-level features for a bit once locality isn't so important.\n",
    " - Downsample early in the network with strides and max pooling to make the process of feature generation cheaper and increase receptive field size. As features get higher-level, their exact spatial location matters less than whether they're present or not. At the point where locality doesn't matter at all, switch to dense layers.\n",
    " - Later layers should have more filters. This increases the channel dimensions of the activation map, allowing the network to propagate information even as the spatial dimension drops. From just a few low-level features (edges, ...) repeated many times in hierarchy, the network can learn many different high-level patterns, and needs one filter for each.\n",
    " \n",
    "A good example of a \"normal\" CNN is VGG-16:\n",
    "![vgg-16](https://alexisbcook.github.io/assets/vgg16.png)\n",
    "(Source: [\"Global Average Pooling Layers for Object Localization\"](https://alexisbcook.github.io/2017/global-average-pooling-layers-for-object-localization/))\n",
    "\n",
    "Note how after each block of convolutional layers, the network downsamples the image by a factor of 4 with max pooling and doubles the number of channels.\n",
    "It ends with two 4096-unit dense layers, then an output softmax layer for classification.\n",
    "\n",
    "An interesting fact is that despite only having three total dense layers, and most of the depth being in convolutional layers, the vast majority of the model's parameters are still in the dense layers because of how parameter-efficient convolutional layers are."
   ]
  },
  {
   "cell_type": "markdown",
   "metadata": {},
   "source": [
    "# Convolution in TensorFlow\n",
    "In TensorFlow, convolution is carried out through the operations [`tf.nn.conv1d()`](https://www.tensorflow.org/api_docs/python/tf/nn/conv1d), [`tf.nn.conv2d()`](https://www.tensorflow.org/api_docs/python/tf/nn/conv2d), and [`tf.nn.conv3d()`](https://www.tensorflow.org/api_docs/python/tf/nn/conv3d).\n",
    "These functions take an `input` tensor that represents a batch of multi-channel inputs, a `filter` tensor that has axes for both which filter (of the parallel filters) is being applied (the last axis) and for which kernel of the filter (the second-to-last axis) is being applied, and return an activation map tensor of the appropriate shape.\n",
    "\n",
    "To do max pooling, use [`tf.nn.max_pool()`](https://www.tensorflow.org/api_docs/python/tf/nn/max_pool) regardless of the dimensions. \n",
    "\n",
    "See below for an example of how to use these:"
   ]
  },
  {
   "cell_type": "code",
   "execution_count": 2,
   "metadata": {},
   "outputs": [],
   "source": [
    "%matplotlib inline\n",
    "import numpy as np\n",
    "import tensorflow as tf\n",
    "import matplotlib.pyplot as plt"
   ]
  },
  {
   "cell_type": "code",
   "execution_count": 2,
   "metadata": {},
   "outputs": [],
   "source": [
    "# The first MNIST digit. A 5.\n",
    "image = np.array([\n",
    "    [0, 0, 0, 0, 0, 0, 0, 0, 0, 0, 0, 0, 0, 0, 0, 0, 0, 0, 0, 0, 0, 0, 0, 0, 0, 0, 0, 0],\n",
    "    [0, 0, 0, 0, 0, 0, 0, 0, 0, 0, 0, 0, 0, 0, 0, 0, 0, 0, 0, 0, 0, 0, 0, 0, 0, 0, 0, 0],\n",
    "    [0, 0, 0, 0, 0, 0, 0, 0, 0, 0, 0, 0, 0, 0, 0, 0, 0, 0, 0, 0, 0, 0, 0, 0, 0, 0, 0, 0],\n",
    "    [0, 0, 0, 0, 0, 0, 0, 0, 0, 0, 0, 0, 0, 0, 0, 0, 0, 0, 0, 0, 0, 0, 0, 0, 0, 0, 0, 0],\n",
    "    [0, 0, 0, 0, 0, 0, 0, 0, 0, 0, 0, 0, 0, 0, 0, 0, 0, 0, 0, 0, 0, 0, 0, 0, 0, 0, 0, 0],\n",
    "    [0, 0, 0, 0, 0, 0, 0, 0, 0, 0, 0, 0, 3, 18, 18, 18, 126, 136, 175, 26, 166, 255, 247, 127, 0, 0, 0, 0],\n",
    "    [0, 0, 0, 0, 0, 0, 0, 0, 30, 36, 94, 154, 170, 253, 253, 253, 253, 253, 225, 172, 253, 242, 195, 64, 0, 0, 0, 0],\n",
    "    [0, 0, 0, 0, 0, 0, 0, 49, 238, 253, 253, 253, 253, 253, 253, 253, 253, 251, 93, 82, 82, 56, 39, 0, 0, 0, 0, 0],\n",
    "    [0, 0, 0, 0, 0, 0, 0, 18, 219, 253, 253, 253, 253, 253, 198, 182, 247, 241, 0, 0, 0, 0, 0, 0, 0, 0, 0, 0],\n",
    "    [0, 0, 0, 0, 0, 0, 0, 0, 80, 156, 107, 253, 253, 205, 11, 0, 43, 154, 0, 0, 0, 0, 0, 0, 0, 0, 0, 0],\n",
    "    [0, 0, 0, 0, 0, 0, 0, 0, 0, 14, 1, 154, 253, 90, 0, 0, 0, 0, 0, 0, 0, 0, 0, 0, 0, 0, 0, 0],\n",
    "    [0, 0, 0, 0, 0, 0, 0, 0, 0, 0, 0, 139, 253, 190, 2, 0, 0, 0, 0, 0, 0, 0, 0, 0, 0, 0, 0, 0],\n",
    "    [0, 0, 0, 0, 0, 0, 0, 0, 0, 0, 0, 11, 190, 253, 70, 0, 0, 0, 0, 0, 0, 0, 0, 0, 0, 0, 0, 0],\n",
    "    [0, 0, 0, 0, 0, 0, 0, 0, 0, 0, 0, 0, 35, 241, 225, 160, 108, 1, 0, 0, 0, 0, 0, 0, 0, 0, 0, 0],\n",
    "    [0, 0, 0, 0, 0, 0, 0, 0, 0, 0, 0, 0, 0, 81, 240, 253, 253, 119, 25, 0, 0, 0, 0, 0, 0, 0, 0, 0],\n",
    "    [0, 0, 0, 0, 0, 0, 0, 0, 0, 0, 0, 0, 0, 0, 45, 186, 253, 253, 150, 27, 0, 0, 0, 0, 0, 0, 0, 0],\n",
    "    [0, 0, 0, 0, 0, 0, 0, 0, 0, 0, 0, 0, 0, 0, 0, 16, 93, 252, 253, 187, 0, 0, 0, 0, 0, 0, 0, 0],\n",
    "    [0, 0, 0, 0, 0, 0, 0, 0, 0, 0, 0, 0, 0, 0, 0, 0, 0, 249, 253, 249, 64, 0, 0, 0, 0, 0, 0, 0],\n",
    "    [0, 0, 0, 0, 0, 0, 0, 0, 0, 0, 0, 0, 0, 0, 46, 130, 183, 253, 253, 207, 2, 0, 0, 0, 0, 0, 0, 0],\n",
    "    [0, 0, 0, 0, 0, 0, 0, 0, 0, 0, 0, 0, 39, 148, 229, 253, 253, 253, 250, 182, 0, 0, 0, 0, 0, 0, 0, 0],\n",
    "    [0, 0, 0, 0, 0, 0, 0, 0, 0, 0, 24, 114, 221, 253, 253, 253, 253, 201, 78, 0, 0, 0, 0, 0, 0, 0, 0, 0],\n",
    "    [0, 0, 0, 0, 0, 0, 0, 0, 23, 66, 213, 253, 253, 253, 253, 198, 81, 2, 0, 0, 0, 0, 0, 0, 0, 0, 0, 0],\n",
    "    [0, 0, 0, 0, 0, 0, 18, 171, 219, 253, 253, 253, 253, 195, 80, 9, 0, 0, 0, 0, 0, 0, 0, 0, 0, 0, 0, 0],\n",
    "    [0, 0, 0, 0, 55, 172, 226, 253, 253, 253, 253, 244, 133, 11, 0, 0, 0, 0, 0, 0, 0, 0, 0, 0, 0, 0, 0, 0],\n",
    "    [0, 0, 0, 0, 136, 253, 253, 253, 212, 135, 132, 16, 0, 0, 0, 0, 0, 0, 0, 0, 0, 0, 0, 0, 0, 0, 0, 0],\n",
    "    [0, 0, 0, 0, 0, 0, 0, 0, 0, 0, 0, 0, 0, 0, 0, 0, 0, 0, 0, 0, 0, 0, 0, 0, 0, 0, 0, 0],\n",
    "    [0, 0, 0, 0, 0, 0, 0, 0, 0, 0, 0, 0, 0, 0, 0, 0, 0, 0, 0, 0, 0, 0, 0, 0, 0, 0, 0, 0],\n",
    "    [0, 0, 0, 0, 0, 0, 0, 0, 0, 0, 0, 0, 0, 0, 0, 0, 0, 0, 0, 0, 0, 0, 0, 0, 0, 0, 0, 0]\n",
    "])\n",
    "\n",
    "# Standardize\n",
    "image = (image / 128.0) - 1\n",
    "\n",
    "# The input, with dummy \"batch\" and \"channel\" dimensions\n",
    "inp = np.expand_dims(image, axis=0)\n",
    "inp = np.expand_dims(inp, axis=-1) "
   ]
  },
  {
   "cell_type": "code",
   "execution_count": 3,
   "metadata": {},
   "outputs": [
    {
     "name": "stdout",
     "output_type": "stream",
     "text": [
      "Image shape: (28, 28)\n",
      "Input shape: (1, 28, 28, 1)\n"
     ]
    },
    {
     "data": {
      "text/plain": [
       "<matplotlib.image.AxesImage at 0x7feba13d4b70>"
      ]
     },
     "execution_count": 3,
     "metadata": {},
     "output_type": "execute_result"
    },
    {
     "data": {
      "image/png": "[encoded data removed]",
      "text/plain": [
       "<Figure size 432x288 with 1 Axes>"
      ]
     },
     "metadata": {
      "needs_background": "light"
     },
     "output_type": "display_data"
    }
   ],
   "source": [
    "print('Image shape:', image.shape)\n",
    "print('Input shape:', inp.shape)\n",
    "plt.imshow(image, cmap='binary')"
   ]
  },
  {
   "cell_type": "code",
   "execution_count": 4,
   "metadata": {},
   "outputs": [
    {
     "data": {
      "text/plain": [
       "<matplotlib.colorbar.Colorbar at 0x7feba131b940>"
      ]
     },
     "execution_count": 4,
     "metadata": {},
     "output_type": "execute_result"
    },
    {
     "data": {
      "image/png": "[encoded data removed]",
      "text/plain": [
       "<Figure size 432x288 with 2 Axes>"
      ]
     },
     "metadata": {
      "needs_background": "light"
     },
     "output_type": "display_data"
    }
   ],
   "source": [
    "# Define an edge detection kernel\n",
    "kernel_edge = np.array([[ 0, 0, 0],\n",
    "                        [-1, 1, 0],\n",
    "                        [ 0, 0, 0]])\n",
    "\n",
    "plt.imshow(kernel_edge, cmap='seismic')\n",
    "plt.title('Edge detection kernel')\n",
    "plt.colorbar()"
   ]
  },
  {
   "cell_type": "code",
   "execution_count": 5,
   "metadata": {
    "scrolled": true
   },
   "outputs": [
    {
     "data": {
      "text/plain": [
       "<matplotlib.colorbar.Colorbar at 0x7feba1256a20>"
      ]
     },
     "execution_count": 5,
     "metadata": {},
     "output_type": "execute_result"
    },
    {
     "data": {
      "image/png": "[encoded data removed]",
      "text/plain": [
       "<Figure size 432x288 with 2 Axes>"
      ]
     },
     "metadata": {
      "needs_background": "light"
     },
     "output_type": "display_data"
    }
   ],
   "source": [
    "# Define a Gaussian blur kernel\n",
    "kernel_blur = np.array([[1, 2, 1],\n",
    "                        [2, 4, 2],\n",
    "                        [1, 2, 1]])\n",
    "\n",
    "plt.imshow(kernel_blur, cmap='seismic', vmin=0, vmax=5)\n",
    "plt.title('Gaussian blur kernel')\n",
    "plt.colorbar()"
   ]
  },
  {
   "cell_type": "code",
   "execution_count": 6,
   "metadata": {},
   "outputs": [
    {
     "name": "stdout",
     "output_type": "stream",
     "text": [
      "Filters tensor shape: (3, 3, 1, 2)\n"
     ]
    }
   ],
   "source": [
    "# Combine the kernels into two filters, each of shape [3, 3, 1]\n",
    "filters = np.stack((kernel_edge, kernel_blur), axis=-1)\n",
    "filters = np.expand_dims(filters, axis=2)\n",
    "print('Filters tensor shape:', filters.shape) # [3, 3, 1, 2]\n",
    "# Corresponds to two 3x3 filters, each with 1 kernel"
   ]
  },
  {
   "cell_type": "code",
   "execution_count": 7,
   "metadata": {},
   "outputs": [],
   "source": [
    "# Build tiny graph for applying both kernels to the image\n",
    "inp_tensor = tf.constant(inp, dtype=tf.float64)\n",
    "filter_tensor = tf.constant(filters, dtype=tf.float64)\n",
    "\n",
    "activation_tensor = tf.nn.conv2d(\n",
    "    input=inp_tensor,\n",
    "    filter=filter_tensor,\n",
    "    strides=(1, 1, 1, 1), # Stride 1 in each dimension\n",
    "    padding='VALID')"
   ]
  },
  {
   "cell_type": "code",
   "execution_count": 8,
   "metadata": {},
   "outputs": [],
   "source": [
    "# Convolve both filters over the input\n",
    "with tf.Session() as sess:\n",
    "    activation = sess.run(activation_tensor)\n",
    "    \n",
    "# Extract individual activation maps\n",
    "activation_edge = activation[0, :, :, 0]\n",
    "activation_blur = activation[0, :, :, 1]"
   ]
  },
  {
   "cell_type": "code",
   "execution_count": 9,
   "metadata": {},
   "outputs": [
    {
     "data": {
      "text/plain": [
       "<matplotlib.colorbar.Colorbar at 0x7febb2b722b0>"
      ]
     },
     "execution_count": 9,
     "metadata": {},
     "output_type": "execute_result"
    },
    {
     "data": {
      "image/png": "[encoded data removed]",
      "text/plain": [
       "<Figure size 432x288 with 2 Axes>"
      ]
     },
     "metadata": {
      "needs_background": "light"
     },
     "output_type": "display_data"
    }
   ],
   "source": [
    "# Show edge-detected activation map\n",
    "plt.imshow(activation_edge, cmap='seismic')\n",
    "plt.title('Edge detection activation map')\n",
    "plt.colorbar()"
   ]
  },
  {
   "cell_type": "code",
   "execution_count": 10,
   "metadata": {},
   "outputs": [
    {
     "data": {
      "text/plain": [
       "<matplotlib.colorbar.Colorbar at 0x7febb2b0ea90>"
      ]
     },
     "execution_count": 10,
     "metadata": {},
     "output_type": "execute_result"
    },
    {
     "data": {
      "image/png": "[encoded data removed]",
      "text/plain": [
       "<Figure size 432x288 with 2 Axes>"
      ]
     },
     "metadata": {
      "needs_background": "light"
     },
     "output_type": "display_data"
    }
   ],
   "source": [
    "# Show blur activation map\n",
    "plt.imshow(activation_blur, cmap='seismic')\n",
    "plt.title('Gaussian blur activation map')\n",
    "plt.colorbar()"
   ]
  },
  {
   "cell_type": "markdown",
   "metadata": {},
   "source": [
    "# Convolution in Keras\n",
    "Convolutional layers are very easy to add in Keras: just use the appropriate layer (usually Conv1D or Conv2D) from [its set of convolutional layers](https://keras.io/layers/convolutional/).\n",
    "It has a [set of pooling layers too](https://keras.io/layers/pooling/), of which MaxPooling1D and MaxPooling2D are the most common.\n",
    "To transition from convolutional to dense layers, use keras.layers.Flatten.\n",
    "\n",
    "The only slightly tricky part of making many common traditional CNNs in Keras is making sure the shapes check out."
   ]
  },
  {
   "cell_type": "markdown",
   "metadata": {},
   "source": [
    "# Example: Image CNN with Keras"
   ]
  },
  {
   "cell_type": "markdown",
   "metadata": {},
   "source": [
    "### Load data"
   ]
  },
  {
   "cell_type": "code",
   "execution_count": 11,
   "metadata": {},
   "outputs": [
    {
     "name": "stdout",
     "output_type": "stream",
     "text": [
      "Input shape: (1797, 8, 8, 1)\n",
      "Target shape: (1797,)\n"
     ]
    }
   ],
   "source": [
    "from sklearn.datasets import load_digits\n",
    "\n",
    "# Load data\n",
    "dataset = load_digits()\n",
    "\n",
    "x_all = dataset.data\n",
    "y_all = dataset.target\n",
    "\n",
    "# Shuffle some features and targets together\n",
    "together = np.concatenate([x_all, np.expand_dims(y_all, axis=1)], \n",
    "                          axis=1)\n",
    "np.random.shuffle(together)\n",
    "x_all = together[:, :-1]\n",
    "y_all = together[:, -1]\n",
    "\n",
    "# Split data into train and test sets\n",
    "n_points = x_all.shape[0]\n",
    "n_features = x_all.shape[1]\n",
    "x_all = np.reshape(x_all, (n_points, 8, 8))\n",
    "x_all = np.expand_dims(x_all, axis=-1)\n",
    "n_train = int(n_points * 0.7)\n",
    "n_test = n_points - n_train\n",
    "\n",
    "print('Input shape:', x_all.shape)\n",
    "print('Target shape:', y_all.shape)\n",
    "\n",
    "x_train, x_test = np.split(x_all, [n_train], axis=0)\n",
    "y_train, y_test = np.split(y_all, [n_train])"
   ]
  },
  {
   "cell_type": "code",
   "execution_count": 12,
   "metadata": {
    "scrolled": true
   },
   "outputs": [
    {
     "data": {
      "text/plain": [
       "Text(0.5, 1.0, 'Label:6.0')"
      ]
     },
     "execution_count": 12,
     "metadata": {},
     "output_type": "execute_result"
    },
    {
     "data": {
      "image/png": "[encoded data removed]",
      "text/plain": [
       "<Figure size 432x288 with 1 Axes>"
      ]
     },
     "metadata": {
      "needs_background": "light"
     },
     "output_type": "display_data"
    }
   ],
   "source": [
    "plt.imshow(x_train[0, :, :, 0])\n",
    "plt.title('Label:' + str(y_train[0]))"
   ]
  },
  {
   "cell_type": "markdown",
   "metadata": {},
   "source": [
    "### Build a model"
   ]
  },
  {
   "cell_type": "code",
   "execution_count": 13,
   "metadata": {},
   "outputs": [
    {
     "name": "stderr",
     "output_type": "stream",
     "text": [
      "Using TensorFlow backend.\n"
     ]
    }
   ],
   "source": [
    "import keras\n",
    "from keras.models import Sequential\n",
    "from keras.layers import Dense, Conv2D, MaxPool2D, Flatten\n",
    "\n",
    "model = Sequential()\n",
    "\n",
    "# First, two 2x2, 16-filter convolutional layers\n",
    "model.add(Conv2D(filters=16, kernel_size=2,\n",
    "                 padding='same', activation='relu',\n",
    "                 input_shape=(8, 8, 1)))\n",
    "model.add(Conv2D(16, 2, padding='same', \n",
    "                 activation='relu'))\n",
    "\n",
    "# Then, a 2x2 max pooling\n",
    "model.add(MaxPool2D(pool_size=2))\n",
    "\n",
    "\n",
    "# Two 2x2, 32-filter convolutional layers\n",
    "model.add(Conv2D(32, 2, padding='same', \n",
    "                 activation='relu'))\n",
    "model.add(Conv2D(32, 2, padding='same', \n",
    "                 activation='relu'))\n",
    "\n",
    "# Flatten the image into a vector\n",
    "model.add(Flatten())\n",
    "\n",
    "# A single dense layer with 300 units\n",
    "model.add(Dense(300, activation='relu'))\n",
    "\n",
    "# Output layer, for 10-class classification: \n",
    "model.add(Dense(10, activation='softmax'))"
   ]
  },
  {
   "cell_type": "markdown",
   "metadata": {},
   "source": [
    "### Compile with an optimizer"
   ]
  },
  {
   "cell_type": "code",
   "execution_count": 14,
   "metadata": {},
   "outputs": [
    {
     "name": "stdout",
     "output_type": "stream",
     "text": [
      "_________________________________________________________________\n",
      "Layer (type)                 Output Shape              Param #   \n",
      "=================================================================\n",
      "conv2d_1 (Conv2D)            (None, 8, 8, 16)          80        \n",
      "_________________________________________________________________\n",
      "conv2d_2 (Conv2D)            (None, 8, 8, 16)          1040      \n",
      "_________________________________________________________________\n",
      "max_pooling2d_1 (MaxPooling2 (None, 4, 4, 16)          0         \n",
      "_________________________________________________________________\n",
      "conv2d_3 (Conv2D)            (None, 4, 4, 32)          2080      \n",
      "_________________________________________________________________\n",
      "conv2d_4 (Conv2D)            (None, 4, 4, 32)          4128      \n",
      "_________________________________________________________________\n",
      "flatten_1 (Flatten)          (None, 512)               0         \n",
      "_________________________________________________________________\n",
      "dense_1 (Dense)              (None, 300)               153900    \n",
      "_________________________________________________________________\n",
      "dense_2 (Dense)              (None, 10)                3010      \n",
      "=================================================================\n",
      "Total params: 164,238\n",
      "Trainable params: 164,238\n",
      "Non-trainable params: 0\n",
      "_________________________________________________________________\n"
     ]
    }
   ],
   "source": [
    "model.summary()"
   ]
  },
  {
   "cell_type": "code",
   "execution_count": 15,
   "metadata": {},
   "outputs": [],
   "source": [
    "from keras.optimizers import SGD\n",
    "\n",
    "optimizer = SGD(lr=1e-3, momentum=0.9)\n",
    "\n",
    "model.compile(optimizer=optimizer,\n",
    "              loss='categorical_crossentropy',\n",
    "              metrics=['categorical_accuracy'])"
   ]
  },
  {
   "cell_type": "code",
   "execution_count": 16,
   "metadata": {},
   "outputs": [
    {
     "name": "stdout",
     "output_type": "stream",
     "text": [
      "Train on 1257 samples, validate on 540 samples\n",
      "Epoch 1/50\n",
      "1257/1257 [==============================] - 0s 249us/step - loss: 2.1465 - categorical_accuracy: 0.3047 - val_loss: 1.8417 - val_categorical_accuracy: 0.5759\n",
      "Epoch 2/50\n",
      "1257/1257 [==============================] - 0s 134us/step - loss: 1.3389 - categorical_accuracy: 0.6698 - val_loss: 0.8163 - val_categorical_accuracy: 0.7870\n",
      "Epoch 3/50\n",
      "1257/1257 [==============================] - 0s 136us/step - loss: 0.5671 - categorical_accuracy: 0.8417 - val_loss: 0.4626 - val_categorical_accuracy: 0.8481\n",
      "Epoch 4/50\n",
      "1257/1257 [==============================] - 0s 150us/step - loss: 0.3175 - categorical_accuracy: 0.9053 - val_loss: 0.3545 - val_categorical_accuracy: 0.8907\n",
      "Epoch 5/50\n",
      "1257/1257 [==============================] - 0s 153us/step - loss: 0.2568 - categorical_accuracy: 0.9189 - val_loss: 0.3373 - val_categorical_accuracy: 0.9037\n",
      "Epoch 6/50\n",
      "1257/1257 [==============================] - 0s 138us/step - loss: 0.1917 - categorical_accuracy: 0.9443 - val_loss: 0.2723 - val_categorical_accuracy: 0.9037\n",
      "Epoch 7/50\n",
      "1257/1257 [==============================] - 0s 151us/step - loss: 0.1476 - categorical_accuracy: 0.9554 - val_loss: 0.2196 - val_categorical_accuracy: 0.9389\n",
      "Epoch 8/50\n",
      "1257/1257 [==============================] - 0s 138us/step - loss: 0.1147 - categorical_accuracy: 0.9658 - val_loss: 0.2152 - val_categorical_accuracy: 0.9407\n",
      "Epoch 9/50\n",
      "1257/1257 [==============================] - 0s 153us/step - loss: 0.1098 - categorical_accuracy: 0.9634 - val_loss: 0.1686 - val_categorical_accuracy: 0.9574\n",
      "Epoch 10/50\n",
      "1257/1257 [==============================] - 0s 157us/step - loss: 0.1107 - categorical_accuracy: 0.9666 - val_loss: 0.1634 - val_categorical_accuracy: 0.9556\n",
      "Epoch 11/50\n",
      "1257/1257 [==============================] - 0s 162us/step - loss: 0.0683 - categorical_accuracy: 0.9809 - val_loss: 0.1509 - val_categorical_accuracy: 0.9593\n",
      "Epoch 12/50\n",
      "1257/1257 [==============================] - 0s 153us/step - loss: 0.0674 - categorical_accuracy: 0.9753 - val_loss: 0.1618 - val_categorical_accuracy: 0.9556\n",
      "Epoch 13/50\n",
      "1257/1257 [==============================] - 0s 152us/step - loss: 0.0510 - categorical_accuracy: 0.9841 - val_loss: 0.1583 - val_categorical_accuracy: 0.9630\n",
      "Epoch 14/50\n",
      "1257/1257 [==============================] - 0s 153us/step - loss: 0.0424 - categorical_accuracy: 0.9897 - val_loss: 0.1656 - val_categorical_accuracy: 0.9519\n",
      "Epoch 15/50\n",
      "1257/1257 [==============================] - 0s 150us/step - loss: 0.0421 - categorical_accuracy: 0.9865 - val_loss: 0.1264 - val_categorical_accuracy: 0.9704\n",
      "Epoch 16/50\n",
      "1257/1257 [==============================] - 0s 154us/step - loss: 0.0302 - categorical_accuracy: 0.9952 - val_loss: 0.1240 - val_categorical_accuracy: 0.9648\n",
      "Epoch 17/50\n",
      "1257/1257 [==============================] - 0s 160us/step - loss: 0.0330 - categorical_accuracy: 0.9912 - val_loss: 0.1324 - val_categorical_accuracy: 0.9685\n",
      "Epoch 18/50\n",
      "1257/1257 [==============================] - 0s 151us/step - loss: 0.0254 - categorical_accuracy: 0.9960 - val_loss: 0.1320 - val_categorical_accuracy: 0.9611\n",
      "Epoch 19/50\n",
      "1257/1257 [==============================] - 0s 153us/step - loss: 0.0221 - categorical_accuracy: 0.9960 - val_loss: 0.1180 - val_categorical_accuracy: 0.9685\n",
      "Epoch 20/50\n",
      "1257/1257 [==============================] - 0s 151us/step - loss: 0.0233 - categorical_accuracy: 0.9968 - val_loss: 0.1239 - val_categorical_accuracy: 0.9667\n",
      "Epoch 21/50\n",
      "1257/1257 [==============================] - 0s 147us/step - loss: 0.0187 - categorical_accuracy: 0.9984 - val_loss: 0.1342 - val_categorical_accuracy: 0.9685\n",
      "Epoch 22/50\n",
      "1257/1257 [==============================] - 0s 152us/step - loss: 0.0449 - categorical_accuracy: 0.9849 - val_loss: 0.1868 - val_categorical_accuracy: 0.9537\n",
      "Epoch 23/50\n",
      "1257/1257 [==============================] - 0s 150us/step - loss: 0.0492 - categorical_accuracy: 0.9833 - val_loss: 0.1353 - val_categorical_accuracy: 0.9722\n",
      "Epoch 24/50\n",
      "1257/1257 [==============================] - 0s 157us/step - loss: 0.0171 - categorical_accuracy: 0.9968 - val_loss: 0.1240 - val_categorical_accuracy: 0.9759\n",
      "Epoch 25/50\n",
      "1257/1257 [==============================] - 0s 155us/step - loss: 0.0214 - categorical_accuracy: 0.9952 - val_loss: 0.1440 - val_categorical_accuracy: 0.9611\n",
      "Epoch 26/50\n",
      "1257/1257 [==============================] - 0s 152us/step - loss: 0.0169 - categorical_accuracy: 0.9968 - val_loss: 0.1145 - val_categorical_accuracy: 0.9722\n",
      "Epoch 27/50\n",
      "1257/1257 [==============================] - 0s 161us/step - loss: 0.0105 - categorical_accuracy: 0.9984 - val_loss: 0.1240 - val_categorical_accuracy: 0.9722\n",
      "Epoch 28/50\n",
      "1257/1257 [==============================] - 0s 160us/step - loss: 0.0091 - categorical_accuracy: 0.9992 - val_loss: 0.1240 - val_categorical_accuracy: 0.9741\n",
      "Epoch 29/50\n",
      "1257/1257 [==============================] - 0s 166us/step - loss: 0.0076 - categorical_accuracy: 1.0000 - val_loss: 0.1256 - val_categorical_accuracy: 0.9722\n",
      "Epoch 30/50\n",
      "1257/1257 [==============================] - 0s 162us/step - loss: 0.0077 - categorical_accuracy: 0.9992 - val_loss: 0.1248 - val_categorical_accuracy: 0.9722\n",
      "Epoch 31/50\n",
      "1257/1257 [==============================] - 0s 158us/step - loss: 0.0070 - categorical_accuracy: 1.0000 - val_loss: 0.1189 - val_categorical_accuracy: 0.9741\n",
      "Epoch 32/50\n",
      "1257/1257 [==============================] - 0s 168us/step - loss: 0.0065 - categorical_accuracy: 1.0000 - val_loss: 0.1213 - val_categorical_accuracy: 0.9759\n",
      "Epoch 33/50\n",
      "1257/1257 [==============================] - 0s 158us/step - loss: 0.0071 - categorical_accuracy: 0.9984 - val_loss: 0.1275 - val_categorical_accuracy: 0.9759\n",
      "Epoch 34/50\n",
      "1257/1257 [==============================] - 0s 173us/step - loss: 0.0087 - categorical_accuracy: 0.9976 - val_loss: 0.1434 - val_categorical_accuracy: 0.9685\n",
      "Epoch 35/50\n",
      "1257/1257 [==============================] - 0s 162us/step - loss: 0.0072 - categorical_accuracy: 1.0000 - val_loss: 0.1457 - val_categorical_accuracy: 0.9685\n",
      "Epoch 36/50\n",
      "1257/1257 [==============================] - 0s 173us/step - loss: 0.0056 - categorical_accuracy: 1.0000 - val_loss: 0.1289 - val_categorical_accuracy: 0.9778\n",
      "Epoch 37/50\n",
      "1257/1257 [==============================] - 0s 154us/step - loss: 0.0046 - categorical_accuracy: 1.0000 - val_loss: 0.1296 - val_categorical_accuracy: 0.9704\n",
      "Epoch 38/50\n",
      "1257/1257 [==============================] - 0s 138us/step - loss: 0.0045 - categorical_accuracy: 1.0000 - val_loss: 0.1226 - val_categorical_accuracy: 0.9722\n",
      "Epoch 39/50\n",
      "1257/1257 [==============================] - 0s 154us/step - loss: 0.0046 - categorical_accuracy: 1.0000 - val_loss: 0.1301 - val_categorical_accuracy: 0.9722\n",
      "Epoch 40/50\n",
      "1257/1257 [==============================] - 0s 136us/step - loss: 0.0049 - categorical_accuracy: 1.0000 - val_loss: 0.1288 - val_categorical_accuracy: 0.9741\n",
      "Epoch 41/50\n",
      "1257/1257 [==============================] - 0s 149us/step - loss: 0.0051 - categorical_accuracy: 1.0000 - val_loss: 0.1354 - val_categorical_accuracy: 0.9759\n",
      "Epoch 42/50\n",
      "1257/1257 [==============================] - 0s 138us/step - loss: 0.0037 - categorical_accuracy: 1.0000 - val_loss: 0.1294 - val_categorical_accuracy: 0.9778\n",
      "Epoch 43/50\n",
      "1257/1257 [==============================] - 0s 156us/step - loss: 0.0034 - categorical_accuracy: 1.0000 - val_loss: 0.1243 - val_categorical_accuracy: 0.9778\n",
      "Epoch 44/50\n",
      "1257/1257 [==============================] - 0s 134us/step - loss: 0.0030 - categorical_accuracy: 1.0000 - val_loss: 0.1296 - val_categorical_accuracy: 0.9741\n",
      "Epoch 45/50\n",
      "1257/1257 [==============================] - 0s 161us/step - loss: 0.0031 - categorical_accuracy: 1.0000 - val_loss: 0.1325 - val_categorical_accuracy: 0.9741\n",
      "Epoch 46/50\n",
      "1257/1257 [==============================] - 0s 144us/step - loss: 0.0032 - categorical_accuracy: 1.0000 - val_loss: 0.1351 - val_categorical_accuracy: 0.9741\n",
      "Epoch 47/50\n",
      "1257/1257 [==============================] - 0s 148us/step - loss: 0.0025 - categorical_accuracy: 1.0000 - val_loss: 0.1281 - val_categorical_accuracy: 0.9759\n",
      "Epoch 48/50\n",
      "1257/1257 [==============================] - 0s 138us/step - loss: 0.0025 - categorical_accuracy: 1.0000 - val_loss: 0.1271 - val_categorical_accuracy: 0.9759\n"
     ]
    },
    {
     "name": "stdout",
     "output_type": "stream",
     "text": [
      "Epoch 49/50\n",
      "1257/1257 [==============================] - 0s 135us/step - loss: 0.0023 - categorical_accuracy: 1.0000 - val_loss: 0.1317 - val_categorical_accuracy: 0.9741\n",
      "Epoch 50/50\n",
      "1257/1257 [==============================] - 0s 133us/step - loss: 0.0021 - categorical_accuracy: 1.0000 - val_loss: 0.1312 - val_categorical_accuracy: 0.9759\n"
     ]
    },
    {
     "data": {
      "text/plain": [
       "<keras.callbacks.History at 0x7feb6b06d3c8>"
      ]
     },
     "execution_count": 16,
     "metadata": {},
     "output_type": "execute_result"
    }
   ],
   "source": [
    "# Need to one-hot encode the targets\n",
    "y_train_onehot = keras.utils.to_categorical(y_train, num_classes=10)\n",
    "y_test_onehot = keras.utils.to_categorical(y_test, num_classes=10)\n",
    "\n",
    "model.fit(x_train, y_train_onehot,\n",
    "          epochs=50, batch_size=32,\n",
    "          validation_data=(x_test, y_test_onehot))"
   ]
  },
  {
   "cell_type": "markdown",
   "metadata": {},
   "source": [
    "### Run inference"
   ]
  },
  {
   "cell_type": "code",
   "execution_count": 17,
   "metadata": {},
   "outputs": [
    {
     "data": {
      "text/plain": [
       "<matplotlib.image.AxesImage at 0x7feb6949b0b8>"
      ]
     },
     "execution_count": 17,
     "metadata": {},
     "output_type": "execute_result"
    },
    {
     "data": {
      "image/png": "[encoded data removed]",
      "text/plain": [
       "<Figure size 432x288 with 1 Axes>"
      ]
     },
     "metadata": {
      "needs_background": "light"
     },
     "output_type": "display_data"
    }
   ],
   "source": [
    "plt.imshow(x_test[0, :, :, 0])"
   ]
  },
  {
   "cell_type": "code",
   "execution_count": 18,
   "metadata": {},
   "outputs": [
    {
     "name": "stdout",
     "output_type": "stream",
     "text": [
      "Predicted probabilities: [[1.12782004e-06 1.84506504e-13 4.73127405e-11 4.10053762e-12\n",
      "  9.99998927e-01 2.42703930e-11 1.12934515e-08 1.80138422e-11\n",
      "  3.88107976e-13 3.63071439e-19]]\n",
      "Predicted class: 4\n",
      "True class label: 4.0\n"
     ]
    }
   ],
   "source": [
    "pred = model.predict([[x_test[0]]], batch_size=1)\n",
    "\n",
    "print('Predicted probabilities:', pred)\n",
    "print('Predicted class:', np.argmax(pred))\n",
    "print('True class label:', y_test[0])"
   ]
  }
 ],
 "metadata": {
  "kernelspec": {
   "display_name": "Python 3",
   "language": "python",
   "name": "python3"
  },
  "language_info": {
   "codemirror_mode": {
    "name": "ipython",
    "version": 3
   },
   "file_extension": ".py",
   "mimetype": "text/x-python",
   "name": "python",
   "nbconvert_exporter": "python",
   "pygments_lexer": "ipython3",
   "version": "3.7.0"
  }
 },
 "nbformat": 4,
 "nbformat_minor": 2
}
